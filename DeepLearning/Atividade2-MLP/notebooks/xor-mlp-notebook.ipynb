{
 "cells": [
  {
   "cell_type": "code",
   "execution_count": 42,
   "metadata": {},
   "outputs": [],
   "source": [
    "import numpy as np"
   ]
  },
  {
   "cell_type": "code",
   "execution_count": 94,
   "metadata": {},
   "outputs": [],
   "source": [
    "X = np.array(\n",
    "    [\n",
    "        [0, 0], \n",
    "        [0, 1], \n",
    "        [1, 0], \n",
    "        [1, 1]\n",
    "    ])\n",
    "\n",
    "y = np.array([\n",
    "        0, # 0 xor 0 = 0\n",
    "        1, # 0 xor 1 = 1\n",
    "        1, # 1 xor 0 = 1\n",
    "        0  # 1 xor 1 = 0\n",
    "    ])"
   ]
  },
  {
   "cell_type": "code",
   "execution_count": 114,
   "metadata": {},
   "outputs": [],
   "source": [
    "class MLP:\n",
    "    def __init__(self, eta=0.1):\n",
    "        self.eta = eta\n",
    "        self.pesos_W = np.random.rand(2,2) # index 0: camada de entrada, index 1: camada oculta\n",
    "        self.bias_b = np.random.rand(2,1)  # index 0: camada de entrada, index 1: camada oculta\n",
    "\n",
    "    def _get_pesos(self):\n",
    "        return self.pesos_W\n",
    "    \n",
    "    def _get_bias(self):\n",
    "        return self.bias_b\n",
    "\n",
    "    def sigmoide(self, x):\n",
    "        return 1 / (1 + np.exp(-x))\n",
    "    \n",
    "    def derivada_sigmoide(self, x):\n",
    "        return x * (1 - x)\n",
    "    \n",
    "    def foward_entrada_camada_1(self):\n",
    "        print(\"Pesos: \", self.pesos_W[0])\n",
    "        print(\"Bias: \", self.bias_b[0])\n",
    "        net = np.dot(self.X, self.pesos_W[0]) + self.bias_b[0]\n",
    "        self.a1 = [self.sigmoide(net), self.sigmoide(net)]\n",
    "\n",
    "    def foward_camada_1_saida(self):\n",
    "        print(\"Pesos: \", self.pesos_W[1])\n",
    "        print(\"Bias: \", self.bias_b[1])\n",
    "        net = np.dot(self.a1, self.pesos_W[1]) + self.bias_b[1]\n",
    "        self.a2 = self.sigmoide(net)\n",
    "\n",
    "    def erro_camada_saida(self):\n",
    "        self.erro_2 = self.y - self.a2\n",
    "\n",
    "    def erro_camada_1(self):\n",
    "        self.erro_1 = self.erro_2.dot(self.pesos_W[1].T) * self.derivada_sigmoide(self.a1)\n",
    "    \n",
    "    def backpropagation_camada_saida(self):\n",
    "        self.pesos_W[1] += self.a1.T.dot(self.erro_2) * eta\n",
    "        self.b2 += np.sum(self.erro_2) * eta\n",
    "\n",
    "    def backpropagation_camada_1(self):\n",
    "        self.pesos_W[0] += self.X.T.dot(self.erro_1) * eta\n",
    "        self.b1 += np.sum(self.erro_1) * eta\n",
    "\n",
    "    def treinar(self, X_treino, y_treino, epochs):\n",
    "        self.X = X_treino\n",
    "        self.y = y_treino\n",
    "\n",
    "        for _ in range(epochs):\n",
    "            self.foward_entrada_camada_1()\n",
    "            self.foward_camada_1_saida()\n",
    "            self.erro_camada_saida()\n",
    "            self.erro_camada_1()\n",
    "            self.backpropagation_camada_saida()\n",
    "            self.backpropagation_camada_1()\n",
    "\n",
    "    def predict(self, X):\n",
    "\n",
    "        self.X = X\n",
    "        self.y = None\n",
    "    \n",
    "        self.foward_entrada_camada_1()\n",
    "        self.foward_camada_1_saida()\n",
    "        return self.a2\n",
    "    "
   ]
  },
  {
   "cell_type": "code",
   "execution_count": 115,
   "metadata": {},
   "outputs": [
    {
     "name": "stdout",
     "output_type": "stream",
     "text": [
      "[[0.99780758 0.02527608]\n",
      " [0.62976392 0.03673086]]\n",
      "Treinando amostra [0 0]\n",
      "Pesos:  [0.99780758 0.02527608]\n",
      "Bias:  [0.38627659]\n"
     ]
    },
    {
     "ename": "AttributeError",
     "evalue": "'MLP' object has no attribute 'a1'",
     "output_type": "error",
     "traceback": [
      "\u001b[0;31m---------------------------------------------------------------------------\u001b[0m",
      "\u001b[0;31mAttributeError\u001b[0m                            Traceback (most recent call last)",
      "Cell \u001b[0;32mIn[115], line 7\u001b[0m\n\u001b[1;32m      5\u001b[0m \u001b[38;5;28;01mfor\u001b[39;00m sample \u001b[38;5;129;01min\u001b[39;00m \u001b[38;5;28mrange\u001b[39m(\u001b[38;5;28mlen\u001b[39m(X)):\n\u001b[1;32m      6\u001b[0m     \u001b[38;5;28mprint\u001b[39m(\u001b[38;5;124mf\u001b[39m\u001b[38;5;124m\"\u001b[39m\u001b[38;5;124mTreinando amostra \u001b[39m\u001b[38;5;132;01m{\u001b[39;00mX[sample]\u001b[38;5;132;01m}\u001b[39;00m\u001b[38;5;124m\"\u001b[39m)\n\u001b[0;32m----> 7\u001b[0m     \u001b[43mmlp\u001b[49m\u001b[38;5;241;43m.\u001b[39;49m\u001b[43mtreinar\u001b[49m\u001b[43m(\u001b[49m\u001b[43mX_treino\u001b[49m\u001b[38;5;241;43m=\u001b[39;49m\u001b[43mX\u001b[49m\u001b[43m[\u001b[49m\u001b[43msample\u001b[49m\u001b[43m]\u001b[49m\u001b[43m,\u001b[49m\u001b[43m \u001b[49m\u001b[43my_treino\u001b[49m\u001b[38;5;241;43m=\u001b[39;49m\u001b[43my\u001b[49m\u001b[43m[\u001b[49m\u001b[43msample\u001b[49m\u001b[43m]\u001b[49m\u001b[43m,\u001b[49m\u001b[43m \u001b[49m\u001b[43mepochs\u001b[49m\u001b[38;5;241;43m=\u001b[39;49m\u001b[38;5;241;43m10\u001b[39;49m\u001b[43m)\u001b[49m\n",
      "Cell \u001b[0;32mIn[114], line 49\u001b[0m, in \u001b[0;36mMLP.treinar\u001b[0;34m(self, X_treino, y_treino, epochs)\u001b[0m\n\u001b[1;32m     46\u001b[0m \u001b[38;5;28mself\u001b[39m\u001b[38;5;241m.\u001b[39my \u001b[38;5;241m=\u001b[39m y_treino\n\u001b[1;32m     48\u001b[0m \u001b[38;5;28;01mfor\u001b[39;00m _ \u001b[38;5;129;01min\u001b[39;00m \u001b[38;5;28mrange\u001b[39m(epochs):\n\u001b[0;32m---> 49\u001b[0m     \u001b[38;5;28;43mself\u001b[39;49m\u001b[38;5;241;43m.\u001b[39;49m\u001b[43mfoward_entrada_camada_1\u001b[49m\u001b[43m(\u001b[49m\u001b[43m)\u001b[49m\n\u001b[1;32m     50\u001b[0m     \u001b[38;5;28mself\u001b[39m\u001b[38;5;241m.\u001b[39mfoward_camada_1_saida()\n\u001b[1;32m     51\u001b[0m     \u001b[38;5;28mself\u001b[39m\u001b[38;5;241m.\u001b[39merro_camada_saida()\n",
      "Cell \u001b[0;32mIn[114], line 24\u001b[0m, in \u001b[0;36mMLP.foward_entrada_camada_1\u001b[0;34m(self)\u001b[0m\n\u001b[1;32m     22\u001b[0m \u001b[38;5;28;01mfor\u001b[39;00m i \u001b[38;5;129;01min\u001b[39;00m \u001b[38;5;28mrange\u001b[39m(\u001b[38;5;28mlen\u001b[39m(\u001b[38;5;28mself\u001b[39m\u001b[38;5;241m.\u001b[39mX)):\n\u001b[1;32m     23\u001b[0m     net \u001b[38;5;241m=\u001b[39m np\u001b[38;5;241m.\u001b[39mdot(\u001b[38;5;28mself\u001b[39m\u001b[38;5;241m.\u001b[39mX[i], \u001b[38;5;28mself\u001b[39m\u001b[38;5;241m.\u001b[39mpesos_W[\u001b[38;5;241m0\u001b[39m]) \u001b[38;5;241m+\u001b[39m \u001b[38;5;28mself\u001b[39m\u001b[38;5;241m.\u001b[39mbias_b[\u001b[38;5;241m0\u001b[39m]\n\u001b[0;32m---> 24\u001b[0m     \u001b[38;5;28;43mself\u001b[39;49m\u001b[38;5;241;43m.\u001b[39;49m\u001b[43ma1\u001b[49m\u001b[38;5;241m.\u001b[39mappend(\u001b[38;5;28mself\u001b[39m\u001b[38;5;241m.\u001b[39msigmoide(net))\n",
      "\u001b[0;31mAttributeError\u001b[0m: 'MLP' object has no attribute 'a1'"
     ]
    }
   ],
   "source": [
    "mlp = MLP()\n",
    "\n",
    "print(mlp._get_pesos())\n",
    "\n",
    "for sample in range(len(X)):\n",
    "    print(f\"Treinando amostra {X[sample]}\")\n",
    "    mlp.treinar(X_treino=X[sample], y_treino=y[sample], epochs=10)"
   ]
  }
 ],
 "metadata": {
  "kernelspec": {
   "display_name": "Python 3",
   "language": "python",
   "name": "python3"
  },
  "language_info": {
   "codemirror_mode": {
    "name": "ipython",
    "version": 3
   },
   "file_extension": ".py",
   "mimetype": "text/x-python",
   "name": "python",
   "nbconvert_exporter": "python",
   "pygments_lexer": "ipython3",
   "version": "3.12.5"
  }
 },
 "nbformat": 4,
 "nbformat_minor": 2
}
