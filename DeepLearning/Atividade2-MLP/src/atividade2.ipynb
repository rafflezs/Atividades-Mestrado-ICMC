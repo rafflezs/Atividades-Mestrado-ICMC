{
 "cells": [
  {
   "cell_type": "code",
   "execution_count": 1,
   "metadata": {},
   "outputs": [],
   "source": [
    "import numpy as np\n",
    "import os\n",
    "from mlp import MLP"
   ]
  },
  {
   "cell_type": "markdown",
   "metadata": {},
   "source": [
    "# XOR"
   ]
  },
  {
   "cell_type": "code",
   "execution_count": 2,
   "metadata": {},
   "outputs": [],
   "source": [
    "X = np.array(\n",
    "    [\n",
    "        [0, 0], \n",
    "        [0, 1], \n",
    "        [1, 0], \n",
    "        [1, 1]\n",
    "    ])\n",
    "\n",
    "y = np.array([\n",
    "        [0], # 0 xor 0 = 0\n",
    "        [1], # 0 xor 1 = 1\n",
    "        [1], # 1 xor 0 = 1\n",
    "        [0]  # 1 xor 1 = 0\n",
    "    ])"
   ]
  },
  {
   "cell_type": "code",
   "execution_count": 3,
   "metadata": {},
   "outputs": [
    {
     "name": "stdout",
     "output_type": "stream",
     "text": [
      "Dimensões de X_train: (4, 2)\n",
      "Dimensões de y_train: (4, 1)\n"
     ]
    }
   ],
   "source": [
    "print(f\"Dimensões de X_train: {X.shape}\")\n",
    "print(f\"Dimensões de y_train: {y.shape}\")\n",
    "mlp = MLP(n_inputs=X.shape[1], n_hidden=X.shape[1], n_output=1)\n",
    "mlp.treino(X, y, epochs=10000, eta=0.1)"
   ]
  },
  {
   "cell_type": "code",
   "execution_count": 4,
   "metadata": {},
   "outputs": [
    {
     "name": "stdout",
     "output_type": "stream",
     "text": [
      "Input: [0 0] | Output: 0 | Expected: [0]\n",
      "Input: [0 1] | Output: 1 | Expected: [1]\n",
      "Input: [1 0] | Output: 0 | Expected: [1]\n",
      "Input: [1 1] | Output: 1 | Expected: [0]\n"
     ]
    },
    {
     "name": "stderr",
     "output_type": "stream",
     "text": [
      "/tmp/ipykernel_159926/383637444.py:2: DeprecationWarning: Conversion of an array with ndim > 0 to a scalar is deprecated, and will error in future. Ensure you extract a single element from your array before performing this operation. (Deprecated NumPy 1.25.)\n",
      "  print(f'Input: {X[_]} | Output: {int(mlp.predict(X[_]) > 0.5)} | Expected: {y[_]}')\n"
     ]
    }
   ],
   "source": [
    "for _ in range(len(X)):\n",
    "    print(f'Input: {X[_]} | Output: {int(mlp.predict(X[_]) > 0.5)} | Expected: {y[_]}')"
   ]
  },
  {
   "cell_type": "markdown",
   "metadata": {},
   "source": [
    "### Teste com mais de 2 entradas"
   ]
  },
  {
   "cell_type": "code",
   "execution_count": 5,
   "metadata": {},
   "outputs": [
    {
     "name": "stdout",
     "output_type": "stream",
     "text": [
      "Arquivo: n6.txt\n"
     ]
    },
    {
     "name": "stderr",
     "output_type": "stream",
     "text": [
      "/tmp/ipykernel_159926/2169098450.py:13: DeprecationWarning: Conversion of an array with ndim > 0 to a scalar is deprecated, and will error in future. Ensure you extract a single element from your array before performing this operation. (Deprecated NumPy 1.25.)\n",
      "  print(f'Input: {X[_]} | Output: {int(mlp.predict(X[_]) > 0.5)} | Expected: {y[_]}')\n"
     ]
    },
    {
     "name": "stdout",
     "output_type": "stream",
     "text": [
      "Input: [0 0 0 0 1 1] | Output: 1 | Expected: [1]\n",
      "Arquivo: n7.txt\n",
      "Input: [0 0 0 0 0 1 1] | Output: 1 | Expected: [1]\n",
      "Arquivo: n9.txt\n",
      "Input: [0 0 0 0 0 0 0 1 1] | Output: 1 | Expected: [1]\n",
      "Arquivo: n5.txt\n",
      "Input: [0 0 0 1 1] | Output: 1 | Expected: [1]\n",
      "Arquivo: n8.txt\n",
      "Input: [0 0 0 0 0 0 1 1] | Output: 1 | Expected: [1]\n",
      "Arquivo: n3.txt\n",
      "Input: [0 1 1] | Output: 1 | Expected: [1]\n",
      "Arquivo: n4.txt\n",
      "Input: [0 0 1 1] | Output: 1 | Expected: [1]\n"
     ]
    }
   ],
   "source": [
    "from helper.load_data import load_data\n",
    "import os\n",
    "data_dir = os.path.join(os.getcwd(), '..', 'data', 'XOR')\n",
    "\n",
    "for file in os.listdir(data_dir):\n",
    "    print(f\"Arquivo: {file}\")\n",
    "    file_path = os.path.join(data_dir, file)\n",
    "    X, y = load_data(file_path=file_path)\n",
    "\n",
    "    mlp = MLP(n_inputs=X.shape[1], n_hidden=X.shape[1], n_output=1)\n",
    "    mlp.treino(X, y, epochs=10000, eta=0.1)\n",
    "\n",
    "    print(f'Input: {X[_]} | Output: {int(mlp.predict(X[_]) > 0.5)} | Expected: {y[_]}')"
   ]
  },
  {
   "cell_type": "markdown",
   "metadata": {},
   "source": [
    "# O problema do Autoencoder"
   ]
  },
  {
   "cell_type": "code",
   "execution_count": 6,
   "metadata": {},
   "outputs": [],
   "source": [
    "caso_encoder = [\n",
    "    {'N': 8, 'epochs': 10000},\n",
    "    {'N': 15, 'epochs': 15000},\n",
    "]"
   ]
  },
  {
   "cell_type": "code",
   "execution_count": 7,
   "metadata": {},
   "outputs": [
    {
     "name": "stdout",
     "output_type": "stream",
     "text": [
      "Predict: Encoder de tamanho N=8:\n",
      " [[0.89 0.   0.   0.03 0.03 0.06 0.   0.  ]\n",
      " [0.   0.89 0.   0.   0.08 0.07 0.04 0.  ]\n",
      " [0.   0.02 0.93 0.05 0.   0.06 0.04 0.  ]\n",
      " [0.07 0.   0.04 0.93 0.   0.01 0.   0.03]\n",
      " [0.08 0.06 0.   0.   0.91 0.   0.01 0.01]\n",
      " [0.05 0.07 0.01 0.01 0.   0.9  0.   0.  ]\n",
      " [0.   0.06 0.07 0.   0.01 0.   0.91 0.06]\n",
      " [0.01 0.   0.   0.05 0.03 0.   0.05 0.94]]\n",
      "Predict: Encoder de tamanho N=15:\n",
      " [[0.84 0.1  0.04 0.04 0.   0.   0.   0.   0.   0.   0.   0.12 0.03 0.\n",
      "  0.  ]\n",
      " [0.12 0.76 0.02 0.22 0.   0.   0.   0.   0.   0.17 0.   0.   0.08 0.\n",
      "  0.  ]\n",
      " [0.   0.   0.38 0.06 0.   0.   0.   0.16 0.01 0.   0.   0.   0.11 0.\n",
      "  0.16]\n",
      " [0.   0.1  0.05 0.24 0.   0.   0.   0.   0.   0.05 0.   0.   0.1  0.\n",
      "  0.  ]\n",
      " [0.   0.   0.   0.07 0.79 0.   0.03 0.   0.19 0.19 0.   0.   0.   0.01\n",
      "  0.  ]\n",
      " [0.   0.   0.01 0.   0.   0.8  0.09 0.08 0.   0.   0.01 0.05 0.   0.\n",
      "  0.  ]\n",
      " [0.   0.   0.   0.   0.   0.11 0.85 0.   0.09 0.   0.02 0.   0.   0.\n",
      "  0.  ]\n",
      " [0.   0.   0.28 0.01 0.   0.16 0.   0.83 0.   0.   0.   0.01 0.   0.\n",
      "  0.01]\n",
      " [0.   0.   0.01 0.05 0.15 0.   0.1  0.   0.71 0.   0.   0.   0.   0.\n",
      "  0.1 ]\n",
      " [0.   0.14 0.   0.16 0.15 0.   0.   0.   0.   0.68 0.   0.   0.   0.15\n",
      "  0.  ]\n",
      " [0.   0.   0.   0.   0.   0.03 0.08 0.   0.   0.   0.88 0.05 0.   0.09\n",
      "  0.  ]\n",
      " [0.09 0.   0.01 0.   0.   0.09 0.   0.01 0.   0.   0.07 0.88 0.   0.\n",
      "  0.  ]\n",
      " [0.04 0.08 0.25 0.28 0.   0.   0.   0.   0.   0.01 0.   0.   0.81 0.\n",
      "  0.03]\n",
      " [0.   0.   0.   0.01 0.03 0.   0.   0.   0.   0.13 0.12 0.   0.   0.83\n",
      "  0.  ]\n",
      " [0.   0.   0.23 0.11 0.   0.   0.   0.01 0.19 0.   0.   0.   0.03 0.\n",
      "  0.81]]\n"
     ]
    }
   ],
   "source": [
    "for caso in caso_encoder:\n",
    "    N = caso['N']\n",
    "    epochs = caso['epochs']\n",
    "    \n",
    "    # Identidade NxN\n",
    "    X = np.identity(N)\n",
    "    y = X.copy()\n",
    "\n",
    "    # Camada escondida Log2(N)\n",
    "    hidden_size = int(np.log2(N))\n",
    "    \n",
    "    # Teinar a rede para o encoder de tamanho N\n",
    "    mlp = MLP(n_inputs=N, n_hidden=hidden_size, n_output=N)\n",
    "    mlp.treino(y=X, X=y, epochs=epochs, eta=0.1)\n",
    "    \n",
    "    # 'Predict' desta merda\n",
    "    predictions = mlp.predict(X)\n",
    "    print(f\"Predict: Encoder de tamanho N={N}:\\n\", np.round(predictions, decimals=2))\n"
   ]
  }
 ],
 "metadata": {
  "kernelspec": {
   "display_name": "Python 3",
   "language": "python",
   "name": "python3"
  },
  "language_info": {
   "codemirror_mode": {
    "name": "ipython",
    "version": 3
   },
   "file_extension": ".py",
   "mimetype": "text/x-python",
   "name": "python",
   "nbconvert_exporter": "python",
   "pygments_lexer": "ipython3",
   "version": "3.12.5"
  }
 },
 "nbformat": 4,
 "nbformat_minor": 2
}
