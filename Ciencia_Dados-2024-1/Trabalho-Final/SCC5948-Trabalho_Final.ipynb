{
 "cells": [
  {
   "cell_type": "markdown",
   "id": "1fbc4369-cbb4-4b4f-8f99-2abf327c5907",
   "metadata": {},
   "source": [
    "# INTRODUÇÃO A CIENCIA DE DADOS (SCC5848)\n",
    "### **Trabalho Final** - Análise do _dataset_ [A Symphony of Customer Interactions](https://www.kaggle.com/datasets/youssefismail20/a-symphony-of-customer-interactions)\n",
    "### Profª. Roseli Ap. Francelin Romero\n",
    "### Alunos:\n",
    "- __Julyana Flores de Prá__ (NUSP: 15600911)\n",
    "- __Thiago Rafael Mariotti Claudio__ (NUSP: 15611674)\n",
    "\n",
    "---"
   ]
  },
  {
   "cell_type": "markdown",
   "id": "4a9c29bd-2523-44b6-ace4-0db4c7979f3e",
   "metadata": {},
   "source": [
    "A base de dados [A Symphony of Customer Interactions](https://www.kaggle.com/datasets/youssefismail20/a-symphony-of-customer-interactions) \n",
    "\n",
    "---"
   ]
  },
  {
   "cell_type": "code",
   "execution_count": null,
   "id": "4db1fa00-65b2-41c8-a04c-7478c84e3d69",
   "metadata": {},
   "outputs": [],
   "source": [
    "import pandas as pd\n",
    "\n",
    "initial_df = pd.read_csv(\"data/A Symphony of Customer Interactions.csv\")"
   ]
  },
  {
   "cell_type": "code",
   "execution_count": null,
   "id": "2c22630b-39ce-4be9-b312-4de559f7b881",
   "metadata": {},
   "outputs": [],
   "source": []
  },
  {
   "cell_type": "code",
   "execution_count": null,
   "id": "154ff135-d347-4b3a-a44c-535752135e1d",
   "metadata": {},
   "outputs": [],
   "source": []
  }
 ],
 "metadata": {
  "kernelspec": {
   "display_name": "Python 3",
   "language": "python",
   "name": "python3"
  },
  "language_info": {
   "codemirror_mode": {
    "name": "ipython",
    "version": 3
   },
   "file_extension": ".py",
   "mimetype": "text/x-python",
   "name": "python",
   "nbconvert_exporter": "python",
   "pygments_lexer": "ipython3",
   "version": "3.8.10"
  }
 },
 "nbformat": 4,
 "nbformat_minor": 5
}
