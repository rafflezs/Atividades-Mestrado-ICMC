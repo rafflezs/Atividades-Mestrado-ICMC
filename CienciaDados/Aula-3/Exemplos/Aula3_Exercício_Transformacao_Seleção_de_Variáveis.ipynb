{
 "cells": [
  {
   "cell_type": "markdown",
   "metadata": {
    "id": "HaabIE4ETRhY"
   },
   "source": [
    "##Cursos MAI5024/SCC5848 - INTRODUÇÃO A CIENCIA DE DADOS\n",
    "##Profa. Roseli Ap. Francelin Romero\n",
    "##**Exercício 03 - Entrega 05 de abril de 2024**\n",
    "## Transformação nos dados e Seleção de variáveis\n",
    "### Alunos:\n",
    "\n",
    "-\n",
    "-\n",
    "-\n",
    "\n",
    "\n",
    "---\n",
    "\n",
    "Nesse exercício utilizaremos um dataset para classificação binária. No total são 19 variáveis de entrada e 1 variável de saída. O dataset pode ser encontrado no arquivo \"dataset_hepatitis.csv\".\n",
    "\n",
    "Existem valores faltantes nesse dataset, representados pelo caractere \"?\".\n",
    "\n",
    "**Há material complementar disponível para resolução desse exercício. Acesse o arquivo \"Transformações em dados heterogeneos\" antes de prosseguir.**"
   ]
  },
  {
   "cell_type": "markdown",
   "metadata": {
    "id": "_YGNezFvvnES"
   },
   "source": [
    "### Questão 01.\n",
    "\n",
    "Carregue o dataset (`pandas.read_csv`) e interprete os valores ausentes corretamente. Utilize o parâmetro `na_values`."
   ]
  },
  {
   "cell_type": "code",
   "execution_count": null,
   "metadata": {
    "id": "IXyPAd32wZq4"
   },
   "outputs": [],
   "source": []
  },
  {
   "cell_type": "markdown",
   "metadata": {
    "id": "l28MiSJ8tEzb"
   },
   "source": [
    "\n",
    "\n",
    "---\n",
    "\n",
    "### Questão 02.\n",
    "\n",
    "Nessa questão, você irá fazer o pré-processamento dos dados.\n",
    "\n",
    "Você deve:\n",
    "\n",
    "\n",
    "*   **Para os dados numéricos:** substitua os valores faltantes utilizando a estratégia de média (`sklearn.impute.SimpleImputer`). Depois padronize o intervalo dessas variáveis (`sklearn.preprocessing.StandardScaler`)\n",
    "*   **Para os dados categóricos:** substitua os valores faltantes utilizando a estratégia de mais frequentes (`sklearn.impute.SimpleImputer`). Depois converta os dados categóricos para uma representação numérica (`sklearn.preprocessing.OneHotEncoder`),\n",
    "\n",
    "Lembre-se de utilizar as classes `sklearn.pipeline.Pipeline` e `sklearn.compose.ColumnTransformer` conforme consta no material complementar."
   ]
  },
  {
   "cell_type": "code",
   "execution_count": null,
   "metadata": {
    "id": "7eU824MhsLjR"
   },
   "outputs": [],
   "source": []
  },
  {
   "cell_type": "markdown",
   "metadata": {
    "id": "cd0PJoKnWYeQ"
   },
   "source": [
    "\n",
    "\n",
    "---\n",
    "\n",
    "### Questão 03.\n",
    "\n",
    "Determine as 10 variáveis mais relevantes do conjunto (lembre-se de concatenar a variável alvo no dataset transformado, iato é, após transformar os dados). Você pode utilizar a matriz de covariância (`numpy.cov`), correlação (`pandas.DataFrame.corr`), `scatterplot`, etc. Justifique sua escolha.\n",
    "\n",
    "Lembre-se que heatmaps (`seaborn.heatmap`) podem auxiliar a visualização."
   ]
  },
  {
   "cell_type": "code",
   "execution_count": null,
   "metadata": {
    "id": "nOSi9pEIWhzz"
   },
   "outputs": [],
   "source": []
  },
  {
   "cell_type": "markdown",
   "metadata": {
    "id": "l0EWHASzXob9"
   },
   "source": [
    "\n",
    "\n",
    "---\n",
    "\n",
    "### Questão 04.\n",
    "\n",
    "Com as 10 varíaveis determinadas na questão anterior, crie um novo conjunto de dados.\n",
    "\n",
    "Lembre-se que o numpy permite indexar colunas/linhas utilizando arrays."
   ]
  },
  {
   "cell_type": "code",
   "execution_count": null,
   "metadata": {
    "id": "fZ4EDsisXn1O"
   },
   "outputs": [],
   "source": []
  },
  {
   "cell_type": "markdown",
   "metadata": {
    "id": "d-MZPSb4Ya9U"
   },
   "source": [
    "\n",
    "\n",
    "---\n",
    "\n",
    "### Questão 05.\n",
    "\n",
    "Reduza a dimensionalidade do conjunto de dados criado utilizando a técnica PCA (`sklearn.decomposition.PCA`). Reduza a dimensionalidade de forma que no mínimo 80% da variância dos dados seja mantida (atente-se ao atributo  `explained_variance_ratio_`). Depois exiba os eixos principais."
   ]
  },
  {
   "cell_type": "code",
   "execution_count": null,
   "metadata": {
    "id": "aTib3VxtYviF"
   },
   "outputs": [],
   "source": []
  }
 ],
 "metadata": {
  "colab": {
   "provenance": []
  },
  "kernelspec": {
   "display_name": "Python 3 (ipykernel)",
   "language": "python",
   "name": "python3"
  },
  "language_info": {
   "codemirror_mode": {
    "name": "ipython",
    "version": 3
   },
   "file_extension": ".py",
   "mimetype": "text/x-python",
   "name": "python",
   "nbconvert_exporter": "python",
   "pygments_lexer": "ipython3",
   "version": "3.10.12"
  }
 },
 "nbformat": 4,
 "nbformat_minor": 4
}
