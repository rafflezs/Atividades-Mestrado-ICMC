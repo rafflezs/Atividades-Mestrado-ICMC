{
  "cells": [
    {
      "cell_type": "markdown",
      "metadata": {
        "id": "NoGtwlOVBymW"
      },
      "source": [
        "## Aula 02 - Exploração de dados - Parte I e II\n",
        "## SCC-5948/MAI5024 - CIENCIA DE DADOS\n",
        "## PROFa. Dra. Roseli A. F. Romero\n",
        "----\n",
        "Objetivos da prática:\n",
        "- Carregar os dados\n",
        "- Navegar nos dados\n",
        "- Selecionar e extraír registros específicos\n",
        "- Realizar análises simples nos dados\n",
        "- Formular e responder perguntas sobre os dados\n",
        "- Visualizar dados reais (\"sujos\")\n",
        "\n",
        "---\n",
        "---"
      ]
    },
    {
      "cell_type": "markdown",
      "source": [],
      "metadata": {
        "id": "q-ESTfwZ-wyl"
      }
    },
    {
      "cell_type": "markdown",
      "metadata": {
        "id": "JvwxqBRhBymY"
      },
      "source": [
        "### Funções utilizadas na prática\n",
        "\n",
        "\n",
        "- mean(axis=None, skipna=None, level=None, numeric_only=None)\n",
        "\n",
        "- median(axis=None, skipna=None, level=None, numeric_only=None)\n",
        "\n",
        "- mode\n",
        "\n",
        "- quantile(q=0.5, interpolation='linear')\n",
        "    \n",
        "- unique\n",
        "    \n",
        "- describe(percentiles=None, include=None, exclude=None)\n",
        "---\n",
        "---"
      ]
    },
    {
      "cell_type": "markdown",
      "metadata": {
        "id": "dEbnm0DDBymZ"
      },
      "source": [
        "\n",
        "\n",
        "### Aquecimento (*warmup*)\n",
        "\n",
        "[//]: # (\n",
        "não gastar muito tempo nessa parte, talvez uns 10 min, mas depende bastante da turma\n",
        ")\n",
        "\n",
        "\n",
        "#### Tipos de conjunto de dados\n",
        "Como visto na aula teórica, podemos classificar os conjuntos de dados (*datasets*) em estruturados e não estruturados. A maioria dos datasets publicamente disponíveis já estão num formato de tabela então são estruturados. Mas não são todos, principalmente os datasets de texto e imagem.\n",
        "\n",
        "[//]: # (\n",
        "**DAR EXEMPLOS e carregar para eles verem**\n",
        "\n",
        "\n",
        "**aproveitar aqui para falar dos formatos dos conjuntos, csv, como os campos são separados**\n",
        ")"
      ]
    },
    {
      "cell_type": "code",
      "execution_count": null,
      "metadata": {
        "scrolled": true,
        "id": "VUG0QjpZBymZ",
        "outputId": "af428aaf-d0b5-41e2-ecbb-abf8fd2d00ab",
        "colab": {
          "base_uri": "https://localhost:8080/",
          "height": 423
        }
      },
      "outputs": [
        {
          "output_type": "execute_result",
          "data": {
            "text/plain": [
              "     sepal length (cm)  sepal width (cm)  petal length (cm)  petal width (cm)  \\\n",
              "0                  5.1               3.5                1.4               0.2   \n",
              "1                  4.9               3.0                1.4               0.2   \n",
              "2                  4.7               3.2                1.3               0.2   \n",
              "3                  4.6               3.1                1.5               0.2   \n",
              "4                  5.0               3.6                1.4               0.2   \n",
              "..                 ...               ...                ...               ...   \n",
              "145                6.7               3.0                5.2               2.3   \n",
              "146                6.3               2.5                5.0               1.9   \n",
              "147                6.5               3.0                5.2               2.0   \n",
              "148                6.2               3.4                5.4               2.3   \n",
              "149                5.9               3.0                5.1               1.8   \n",
              "\n",
              "     target  \n",
              "0       0.0  \n",
              "1       0.0  \n",
              "2       0.0  \n",
              "3       0.0  \n",
              "4       0.0  \n",
              "..      ...  \n",
              "145     2.0  \n",
              "146     2.0  \n",
              "147     2.0  \n",
              "148     2.0  \n",
              "149     2.0  \n",
              "\n",
              "[150 rows x 5 columns]"
            ],
            "text/html": [
              "\n",
              "  <div id=\"df-741e51cb-f565-4802-8647-9746d37820ef\">\n",
              "    <div class=\"colab-df-container\">\n",
              "      <div>\n",
              "<style scoped>\n",
              "    .dataframe tbody tr th:only-of-type {\n",
              "        vertical-align: middle;\n",
              "    }\n",
              "\n",
              "    .dataframe tbody tr th {\n",
              "        vertical-align: top;\n",
              "    }\n",
              "\n",
              "    .dataframe thead th {\n",
              "        text-align: right;\n",
              "    }\n",
              "</style>\n",
              "<table border=\"1\" class=\"dataframe\">\n",
              "  <thead>\n",
              "    <tr style=\"text-align: right;\">\n",
              "      <th></th>\n",
              "      <th>sepal length (cm)</th>\n",
              "      <th>sepal width (cm)</th>\n",
              "      <th>petal length (cm)</th>\n",
              "      <th>petal width (cm)</th>\n",
              "      <th>target</th>\n",
              "    </tr>\n",
              "  </thead>\n",
              "  <tbody>\n",
              "    <tr>\n",
              "      <th>0</th>\n",
              "      <td>5.1</td>\n",
              "      <td>3.5</td>\n",
              "      <td>1.4</td>\n",
              "      <td>0.2</td>\n",
              "      <td>0.0</td>\n",
              "    </tr>\n",
              "    <tr>\n",
              "      <th>1</th>\n",
              "      <td>4.9</td>\n",
              "      <td>3.0</td>\n",
              "      <td>1.4</td>\n",
              "      <td>0.2</td>\n",
              "      <td>0.0</td>\n",
              "    </tr>\n",
              "    <tr>\n",
              "      <th>2</th>\n",
              "      <td>4.7</td>\n",
              "      <td>3.2</td>\n",
              "      <td>1.3</td>\n",
              "      <td>0.2</td>\n",
              "      <td>0.0</td>\n",
              "    </tr>\n",
              "    <tr>\n",
              "      <th>3</th>\n",
              "      <td>4.6</td>\n",
              "      <td>3.1</td>\n",
              "      <td>1.5</td>\n",
              "      <td>0.2</td>\n",
              "      <td>0.0</td>\n",
              "    </tr>\n",
              "    <tr>\n",
              "      <th>4</th>\n",
              "      <td>5.0</td>\n",
              "      <td>3.6</td>\n",
              "      <td>1.4</td>\n",
              "      <td>0.2</td>\n",
              "      <td>0.0</td>\n",
              "    </tr>\n",
              "    <tr>\n",
              "      <th>...</th>\n",
              "      <td>...</td>\n",
              "      <td>...</td>\n",
              "      <td>...</td>\n",
              "      <td>...</td>\n",
              "      <td>...</td>\n",
              "    </tr>\n",
              "    <tr>\n",
              "      <th>145</th>\n",
              "      <td>6.7</td>\n",
              "      <td>3.0</td>\n",
              "      <td>5.2</td>\n",
              "      <td>2.3</td>\n",
              "      <td>2.0</td>\n",
              "    </tr>\n",
              "    <tr>\n",
              "      <th>146</th>\n",
              "      <td>6.3</td>\n",
              "      <td>2.5</td>\n",
              "      <td>5.0</td>\n",
              "      <td>1.9</td>\n",
              "      <td>2.0</td>\n",
              "    </tr>\n",
              "    <tr>\n",
              "      <th>147</th>\n",
              "      <td>6.5</td>\n",
              "      <td>3.0</td>\n",
              "      <td>5.2</td>\n",
              "      <td>2.0</td>\n",
              "      <td>2.0</td>\n",
              "    </tr>\n",
              "    <tr>\n",
              "      <th>148</th>\n",
              "      <td>6.2</td>\n",
              "      <td>3.4</td>\n",
              "      <td>5.4</td>\n",
              "      <td>2.3</td>\n",
              "      <td>2.0</td>\n",
              "    </tr>\n",
              "    <tr>\n",
              "      <th>149</th>\n",
              "      <td>5.9</td>\n",
              "      <td>3.0</td>\n",
              "      <td>5.1</td>\n",
              "      <td>1.8</td>\n",
              "      <td>2.0</td>\n",
              "    </tr>\n",
              "  </tbody>\n",
              "</table>\n",
              "<p>150 rows × 5 columns</p>\n",
              "</div>\n",
              "      <button class=\"colab-df-convert\" onclick=\"convertToInteractive('df-741e51cb-f565-4802-8647-9746d37820ef')\"\n",
              "              title=\"Convert this dataframe to an interactive table.\"\n",
              "              style=\"display:none;\">\n",
              "        \n",
              "  <svg xmlns=\"http://www.w3.org/2000/svg\" height=\"24px\"viewBox=\"0 0 24 24\"\n",
              "       width=\"24px\">\n",
              "    <path d=\"M0 0h24v24H0V0z\" fill=\"none\"/>\n",
              "    <path d=\"M18.56 5.44l.94 2.06.94-2.06 2.06-.94-2.06-.94-.94-2.06-.94 2.06-2.06.94zm-11 1L8.5 8.5l.94-2.06 2.06-.94-2.06-.94L8.5 2.5l-.94 2.06-2.06.94zm10 10l.94 2.06.94-2.06 2.06-.94-2.06-.94-.94-2.06-.94 2.06-2.06.94z\"/><path d=\"M17.41 7.96l-1.37-1.37c-.4-.4-.92-.59-1.43-.59-.52 0-1.04.2-1.43.59L10.3 9.45l-7.72 7.72c-.78.78-.78 2.05 0 2.83L4 21.41c.39.39.9.59 1.41.59.51 0 1.02-.2 1.41-.59l7.78-7.78 2.81-2.81c.8-.78.8-2.07 0-2.86zM5.41 20L4 18.59l7.72-7.72 1.47 1.35L5.41 20z\"/>\n",
              "  </svg>\n",
              "      </button>\n",
              "      \n",
              "  <style>\n",
              "    .colab-df-container {\n",
              "      display:flex;\n",
              "      flex-wrap:wrap;\n",
              "      gap: 12px;\n",
              "    }\n",
              "\n",
              "    .colab-df-convert {\n",
              "      background-color: #E8F0FE;\n",
              "      border: none;\n",
              "      border-radius: 50%;\n",
              "      cursor: pointer;\n",
              "      display: none;\n",
              "      fill: #1967D2;\n",
              "      height: 32px;\n",
              "      padding: 0 0 0 0;\n",
              "      width: 32px;\n",
              "    }\n",
              "\n",
              "    .colab-df-convert:hover {\n",
              "      background-color: #E2EBFA;\n",
              "      box-shadow: 0px 1px 2px rgba(60, 64, 67, 0.3), 0px 1px 3px 1px rgba(60, 64, 67, 0.15);\n",
              "      fill: #174EA6;\n",
              "    }\n",
              "\n",
              "    [theme=dark] .colab-df-convert {\n",
              "      background-color: #3B4455;\n",
              "      fill: #D2E3FC;\n",
              "    }\n",
              "\n",
              "    [theme=dark] .colab-df-convert:hover {\n",
              "      background-color: #434B5C;\n",
              "      box-shadow: 0px 1px 3px 1px rgba(0, 0, 0, 0.15);\n",
              "      filter: drop-shadow(0px 1px 2px rgba(0, 0, 0, 0.3));\n",
              "      fill: #FFFFFF;\n",
              "    }\n",
              "  </style>\n",
              "\n",
              "      <script>\n",
              "        const buttonEl =\n",
              "          document.querySelector('#df-741e51cb-f565-4802-8647-9746d37820ef button.colab-df-convert');\n",
              "        buttonEl.style.display =\n",
              "          google.colab.kernel.accessAllowed ? 'block' : 'none';\n",
              "\n",
              "        async function convertToInteractive(key) {\n",
              "          const element = document.querySelector('#df-741e51cb-f565-4802-8647-9746d37820ef');\n",
              "          const dataTable =\n",
              "            await google.colab.kernel.invokeFunction('convertToInteractive',\n",
              "                                                     [key], {});\n",
              "          if (!dataTable) return;\n",
              "\n",
              "          const docLinkHtml = 'Like what you see? Visit the ' +\n",
              "            '<a target=\"_blank\" href=https://colab.research.google.com/notebooks/data_table.ipynb>data table notebook</a>'\n",
              "            + ' to learn more about interactive tables.';\n",
              "          element.innerHTML = '';\n",
              "          dataTable['output_type'] = 'display_data';\n",
              "          await google.colab.output.renderOutput(dataTable, element);\n",
              "          const docLink = document.createElement('div');\n",
              "          docLink.innerHTML = docLinkHtml;\n",
              "          element.appendChild(docLink);\n",
              "        }\n",
              "      </script>\n",
              "    </div>\n",
              "  </div>\n",
              "  "
            ]
          },
          "metadata": {},
          "execution_count": 1
        }
      ],
      "source": [
        "import pandas as pd\n",
        "import numpy as np\n",
        "from sklearn import datasets\n",
        "\n",
        "iris = datasets.load_iris()\n",
        "iris = pd.DataFrame(data= np.c_[iris['data'], iris['target']],\n",
        "                     columns= iris['feature_names'] + ['target'])\n",
        "iris"
      ]
    },
    {
      "cell_type": "markdown",
      "source": [],
      "metadata": {
        "id": "aEmODXMxcOtT"
      }
    },
    {
      "cell_type": "code",
      "source": [
        "from matplotlib import pyplot as plt\n",
        "import numpy as np\n",
        "import pandas as pd\n",
        "iris1 = iris.drop(['target'], axis =1)\n",
        "plt.hist(iris1, bins=range(0,100,50), alpha=1.0)\n",
        "#plt.hist(classe_b, bins=range(0,100,10), alpha=0.5)\n",
        "plt.show()"
      ],
      "metadata": {
        "id": "Lf1IOypRcPZr",
        "colab": {
          "base_uri": "https://localhost:8080/",
          "height": 265
        },
        "outputId": "0eec3e3d-e0a0-4a39-9984-9708c73d1426"
      },
      "execution_count": null,
      "outputs": [
        {
          "output_type": "display_data",
          "data": {
            "text/plain": [
              "<Figure size 432x288 with 1 Axes>"
            ],
            "image/png": "[encoded data removed]"
          },
          "metadata": {
            "needs_background": "light"
          }
        }
      ]
    },
    {
      "cell_type": "code",
      "source": [
        "iris.head()"
      ],
      "metadata": {
        "colab": {
          "base_uri": "https://localhost:8080/",
          "height": 206
        },
        "id": "phOa4f6JQi6R",
        "outputId": "cda0e219-2dfc-4905-bf20-b32d6a57366c"
      },
      "execution_count": null,
      "outputs": [
        {
          "output_type": "execute_result",
          "data": {
            "text/plain": [
              "   sepal length (cm)  sepal width (cm)  petal length (cm)  petal width (cm)  \\\n",
              "0                5.1               3.5                1.4               0.2   \n",
              "1                4.9               3.0                1.4               0.2   \n",
              "2                4.7               3.2                1.3               0.2   \n",
              "3                4.6               3.1                1.5               0.2   \n",
              "4                5.0               3.6                1.4               0.2   \n",
              "\n",
              "   target  \n",
              "0     0.0  \n",
              "1     0.0  \n",
              "2     0.0  \n",
              "3     0.0  \n",
              "4     0.0  "
            ],
            "text/html": [
              "\n",
              "  <div id=\"df-cfc5146d-7470-436e-9f40-7e6e8609695a\">\n",
              "    <div class=\"colab-df-container\">\n",
              "      <div>\n",
              "<style scoped>\n",
              "    .dataframe tbody tr th:only-of-type {\n",
              "        vertical-align: middle;\n",
              "    }\n",
              "\n",
              "    .dataframe tbody tr th {\n",
              "        vertical-align: top;\n",
              "    }\n",
              "\n",
              "    .dataframe thead th {\n",
              "        text-align: right;\n",
              "    }\n",
              "</style>\n",
              "<table border=\"1\" class=\"dataframe\">\n",
              "  <thead>\n",
              "    <tr style=\"text-align: right;\">\n",
              "      <th></th>\n",
              "      <th>sepal length (cm)</th>\n",
              "      <th>sepal width (cm)</th>\n",
              "      <th>petal length (cm)</th>\n",
              "      <th>petal width (cm)</th>\n",
              "      <th>target</th>\n",
              "    </tr>\n",
              "  </thead>\n",
              "  <tbody>\n",
              "    <tr>\n",
              "      <th>0</th>\n",
              "      <td>5.1</td>\n",
              "      <td>3.5</td>\n",
              "      <td>1.4</td>\n",
              "      <td>0.2</td>\n",
              "      <td>0.0</td>\n",
              "    </tr>\n",
              "    <tr>\n",
              "      <th>1</th>\n",
              "      <td>4.9</td>\n",
              "      <td>3.0</td>\n",
              "      <td>1.4</td>\n",
              "      <td>0.2</td>\n",
              "      <td>0.0</td>\n",
              "    </tr>\n",
              "    <tr>\n",
              "      <th>2</th>\n",
              "      <td>4.7</td>\n",
              "      <td>3.2</td>\n",
              "      <td>1.3</td>\n",
              "      <td>0.2</td>\n",
              "      <td>0.0</td>\n",
              "    </tr>\n",
              "    <tr>\n",
              "      <th>3</th>\n",
              "      <td>4.6</td>\n",
              "      <td>3.1</td>\n",
              "      <td>1.5</td>\n",
              "      <td>0.2</td>\n",
              "      <td>0.0</td>\n",
              "    </tr>\n",
              "    <tr>\n",
              "      <th>4</th>\n",
              "      <td>5.0</td>\n",
              "      <td>3.6</td>\n",
              "      <td>1.4</td>\n",
              "      <td>0.2</td>\n",
              "      <td>0.0</td>\n",
              "    </tr>\n",
              "  </tbody>\n",
              "</table>\n",
              "</div>\n",
              "      <button class=\"colab-df-convert\" onclick=\"convertToInteractive('df-cfc5146d-7470-436e-9f40-7e6e8609695a')\"\n",
              "              title=\"Convert this dataframe to an interactive table.\"\n",
              "              style=\"display:none;\">\n",
              "        \n",
              "  <svg xmlns=\"http://www.w3.org/2000/svg\" height=\"24px\"viewBox=\"0 0 24 24\"\n",
              "       width=\"24px\">\n",
              "    <path d=\"M0 0h24v24H0V0z\" fill=\"none\"/>\n",
              "    <path d=\"M18.56 5.44l.94 2.06.94-2.06 2.06-.94-2.06-.94-.94-2.06-.94 2.06-2.06.94zm-11 1L8.5 8.5l.94-2.06 2.06-.94-2.06-.94L8.5 2.5l-.94 2.06-2.06.94zm10 10l.94 2.06.94-2.06 2.06-.94-2.06-.94-.94-2.06-.94 2.06-2.06.94z\"/><path d=\"M17.41 7.96l-1.37-1.37c-.4-.4-.92-.59-1.43-.59-.52 0-1.04.2-1.43.59L10.3 9.45l-7.72 7.72c-.78.78-.78 2.05 0 2.83L4 21.41c.39.39.9.59 1.41.59.51 0 1.02-.2 1.41-.59l7.78-7.78 2.81-2.81c.8-.78.8-2.07 0-2.86zM5.41 20L4 18.59l7.72-7.72 1.47 1.35L5.41 20z\"/>\n",
              "  </svg>\n",
              "      </button>\n",
              "      \n",
              "  <style>\n",
              "    .colab-df-container {\n",
              "      display:flex;\n",
              "      flex-wrap:wrap;\n",
              "      gap: 12px;\n",
              "    }\n",
              "\n",
              "    .colab-df-convert {\n",
              "      background-color: #E8F0FE;\n",
              "      border: none;\n",
              "      border-radius: 50%;\n",
              "      cursor: pointer;\n",
              "      display: none;\n",
              "      fill: #1967D2;\n",
              "      height: 32px;\n",
              "      padding: 0 0 0 0;\n",
              "      width: 32px;\n",
              "    }\n",
              "\n",
              "    .colab-df-convert:hover {\n",
              "      background-color: #E2EBFA;\n",
              "      box-shadow: 0px 1px 2px rgba(60, 64, 67, 0.3), 0px 1px 3px 1px rgba(60, 64, 67, 0.15);\n",
              "      fill: #174EA6;\n",
              "    }\n",
              "\n",
              "    [theme=dark] .colab-df-convert {\n",
              "      background-color: #3B4455;\n",
              "      fill: #D2E3FC;\n",
              "    }\n",
              "\n",
              "    [theme=dark] .colab-df-convert:hover {\n",
              "      background-color: #434B5C;\n",
              "      box-shadow: 0px 1px 3px 1px rgba(0, 0, 0, 0.15);\n",
              "      filter: drop-shadow(0px 1px 2px rgba(0, 0, 0, 0.3));\n",
              "      fill: #FFFFFF;\n",
              "    }\n",
              "  </style>\n",
              "\n",
              "      <script>\n",
              "        const buttonEl =\n",
              "          document.querySelector('#df-cfc5146d-7470-436e-9f40-7e6e8609695a button.colab-df-convert');\n",
              "        buttonEl.style.display =\n",
              "          google.colab.kernel.accessAllowed ? 'block' : 'none';\n",
              "\n",
              "        async function convertToInteractive(key) {\n",
              "          const element = document.querySelector('#df-cfc5146d-7470-436e-9f40-7e6e8609695a');\n",
              "          const dataTable =\n",
              "            await google.colab.kernel.invokeFunction('convertToInteractive',\n",
              "                                                     [key], {});\n",
              "          if (!dataTable) return;\n",
              "\n",
              "          const docLinkHtml = 'Like what you see? Visit the ' +\n",
              "            '<a target=\"_blank\" href=https://colab.research.google.com/notebooks/data_table.ipynb>data table notebook</a>'\n",
              "            + ' to learn more about interactive tables.';\n",
              "          element.innerHTML = '';\n",
              "          dataTable['output_type'] = 'display_data';\n",
              "          await google.colab.output.renderOutput(dataTable, element);\n",
              "          const docLink = document.createElement('div');\n",
              "          docLink.innerHTML = docLinkHtml;\n",
              "          element.appendChild(docLink);\n",
              "        }\n",
              "      </script>\n",
              "    </div>\n",
              "  </div>\n",
              "  "
            ]
          },
          "metadata": {},
          "execution_count": 2
        }
      ]
    },
    {
      "cell_type": "code",
      "source": [
        "iris['sepal length (cm)'].describe()"
      ],
      "metadata": {
        "colab": {
          "base_uri": "https://localhost:8080/"
        },
        "id": "mgBA8XlbQqte",
        "outputId": "5309b4c7-40c0-47c0-ce31-6a5f8176861f"
      },
      "execution_count": null,
      "outputs": [
        {
          "output_type": "execute_result",
          "data": {
            "text/plain": [
              "count    150.000000\n",
              "mean       5.843333\n",
              "std        0.828066\n",
              "min        4.300000\n",
              "25%        5.100000\n",
              "50%        5.800000\n",
              "75%        6.400000\n",
              "max        7.900000\n",
              "Name: sepal length (cm), dtype: float64"
            ]
          },
          "metadata": {},
          "execution_count": 3
        }
      ]
    },
    {
      "cell_type": "code",
      "source": [
        "plt.boxplot(iris['sepal length (cm)'])"
      ],
      "metadata": {
        "colab": {
          "base_uri": "https://localhost:8080/",
          "height": 413
        },
        "id": "r8Ye5rRtRINn",
        "outputId": "a74690ff-135c-414a-9099-3bc44eab5565"
      },
      "execution_count": null,
      "outputs": [
        {
          "output_type": "execute_result",
          "data": {
            "text/plain": [
              "{'whiskers': [<matplotlib.lines.Line2D at 0x7f31a421aaf0>,\n",
              "  <matplotlib.lines.Line2D at 0x7f31a421ad90>],\n",
              " 'caps': [<matplotlib.lines.Line2D at 0x7f31a41af070>,\n",
              "  <matplotlib.lines.Line2D at 0x7f31a41af310>],\n",
              " 'boxes': [<matplotlib.lines.Line2D at 0x7f31a421a850>],\n",
              " 'medians': [<matplotlib.lines.Line2D at 0x7f31a6ac0fd0>],\n",
              " 'fliers': [<matplotlib.lines.Line2D at 0x7f31a41af2e0>],\n",
              " 'means': []}"
            ]
          },
          "metadata": {},
          "execution_count": 6
        },
        {
          "output_type": "display_data",
          "data": {
            "text/plain": [
              "<Figure size 432x288 with 1 Axes>"
            ],
            "image/png": "[encoded data removed]"
          },
          "metadata": {
            "needs_background": "light"
          }
        }
      ]
    },
    {
      "cell_type": "code",
      "source": [
        "import seaborn as sns\n",
        "sns.boxplot(data= iris, x=\"target\", y = 'sepal length (cm)')\n",
        "plt.show()"
      ],
      "metadata": {
        "colab": {
          "base_uri": "https://localhost:8080/",
          "height": 279
        },
        "id": "hUNtVSrQR7gu",
        "outputId": "6be5a164-d2b1-4abb-dd2e-a106f2edf069"
      },
      "execution_count": null,
      "outputs": [
        {
          "output_type": "display_data",
          "data": {
            "text/plain": [
              "<Figure size 432x288 with 1 Axes>"
            ],
            "image/png": "[encoded data removed]"
          },
          "metadata": {
            "needs_background": "light"
          }
        }
      ]
    },
    {
      "cell_type": "markdown",
      "metadata": {
        "id": "QCLiY1AGBymc"
      },
      "source": [
        "\n",
        "---\n",
        "#### Tipos de atributos\n",
        "Outro ponto abordado na teoria foram os tipos de atributos, simbólico/categórico (ordinal, nominal) ou numérico (intervalar, discreto, contínuo)\n",
        "\n",
        "[//]: # (\n",
        "**Abrir alguns datasets e navegar, deixar código pronto para isso assim eles tb tem acesso**\n",
        ")\n",
        "\n",
        "\n"
      ]
    },
    {
      "cell_type": "markdown",
      "metadata": {
        "id": "v2jkjBcMBymn"
      },
      "source": [
        "---\n",
        "\n",
        "\n",
        "Bibliografia para práticas de CD:\n",
        "- Charu C. Aggarwal. (2015). Data Mining: The Textbook. Capítulos 1, 2.\n",
        "- Verónica Bolón-Canedo, Noelia Sánchez-Maroño, Amparo Alonso-Betanzos. (2015). Feature Selection For High-Dimensional Data. Capítulos 1, 2.\n",
        "- Wilfried Grossmann, Stefanie Rinderle-Ma. (2015). Fundamentals of Bussines Intelligent. Capítulos 1, 2.1, 2.5, 2.6, 4.1, 4.3, 4.4, 4.5.\n",
        "- Thomas A. Runkler. (2016). Data Analytics. Capítulos 1, 2.1, 2.2.\n",
        "- Rajendra Akerkar, Priti Srinivas Sajja. (2016). Intelligent Techniques for Data Science. Capítulos 1, 2.\n",
        "- **Doug Rose. (2016). Data Science. Capítulos 1, 3, 4, 8, 9, 11, 12, 14, 15, 17, 18, 19, 20, 21, 22, 23, 24.**\n",
        "- Max Bramer. (2016). Principles for Data Mining. Capítulos 1, 2.\n",
        "- Steven S. Skiena. (2017). The Data Science Design Manual. Capítulo 1.\n"
      ]
    },
    {
      "cell_type": "code",
      "source": [],
      "metadata": {
        "id": "sJ0x8_v9XFK5"
      },
      "execution_count": null,
      "outputs": []
    },
    {
      "cell_type": "markdown",
      "metadata": {
        "id": "Wt-wTrddBymp"
      },
      "source": [
        "Conjunto de dados escolhido\n",
        "\n",
        "Iris"
      ]
    },
    {
      "cell_type": "code",
      "execution_count": null,
      "metadata": {
        "scrolled": true,
        "colab": {
          "base_uri": "https://localhost:8080/",
          "height": 423
        },
        "id": "hTrkzvlWBymp",
        "outputId": "8928ddd3-8184-483a-9897-3f6dfef8b0c1"
      },
      "outputs": [
        {
          "output_type": "execute_result",
          "data": {
            "text/plain": [
              "     sepal length (cm)  sepal width (cm)  petal length (cm)  petal width (cm)  \\\n",
              "0                  5.1               3.5                1.4               0.2   \n",
              "1                  4.9               3.0                1.4               0.2   \n",
              "2                  4.7               3.2                1.3               0.2   \n",
              "3                  4.6               3.1                1.5               0.2   \n",
              "4                  5.0               3.6                1.4               0.2   \n",
              "..                 ...               ...                ...               ...   \n",
              "145                6.7               3.0                5.2               2.3   \n",
              "146                6.3               2.5                5.0               1.9   \n",
              "147                6.5               3.0                5.2               2.0   \n",
              "148                6.2               3.4                5.4               2.3   \n",
              "149                5.9               3.0                5.1               1.8   \n",
              "\n",
              "     target  \n",
              "0       0.0  \n",
              "1       0.0  \n",
              "2       0.0  \n",
              "3       0.0  \n",
              "4       0.0  \n",
              "..      ...  \n",
              "145     2.0  \n",
              "146     2.0  \n",
              "147     2.0  \n",
              "148     2.0  \n",
              "149     2.0  \n",
              "\n",
              "[150 rows x 5 columns]"
            ],
            "text/html": [
              "\n",
              "  <div id=\"df-e4889d79-3e00-4366-81e2-7f7ac47cda2a\">\n",
              "    <div class=\"colab-df-container\">\n",
              "      <div>\n",
              "<style scoped>\n",
              "    .dataframe tbody tr th:only-of-type {\n",
              "        vertical-align: middle;\n",
              "    }\n",
              "\n",
              "    .dataframe tbody tr th {\n",
              "        vertical-align: top;\n",
              "    }\n",
              "\n",
              "    .dataframe thead th {\n",
              "        text-align: right;\n",
              "    }\n",
              "</style>\n",
              "<table border=\"1\" class=\"dataframe\">\n",
              "  <thead>\n",
              "    <tr style=\"text-align: right;\">\n",
              "      <th></th>\n",
              "      <th>sepal length (cm)</th>\n",
              "      <th>sepal width (cm)</th>\n",
              "      <th>petal length (cm)</th>\n",
              "      <th>petal width (cm)</th>\n",
              "      <th>target</th>\n",
              "    </tr>\n",
              "  </thead>\n",
              "  <tbody>\n",
              "    <tr>\n",
              "      <th>0</th>\n",
              "      <td>5.1</td>\n",
              "      <td>3.5</td>\n",
              "      <td>1.4</td>\n",
              "      <td>0.2</td>\n",
              "      <td>0.0</td>\n",
              "    </tr>\n",
              "    <tr>\n",
              "      <th>1</th>\n",
              "      <td>4.9</td>\n",
              "      <td>3.0</td>\n",
              "      <td>1.4</td>\n",
              "      <td>0.2</td>\n",
              "      <td>0.0</td>\n",
              "    </tr>\n",
              "    <tr>\n",
              "      <th>2</th>\n",
              "      <td>4.7</td>\n",
              "      <td>3.2</td>\n",
              "      <td>1.3</td>\n",
              "      <td>0.2</td>\n",
              "      <td>0.0</td>\n",
              "    </tr>\n",
              "    <tr>\n",
              "      <th>3</th>\n",
              "      <td>4.6</td>\n",
              "      <td>3.1</td>\n",
              "      <td>1.5</td>\n",
              "      <td>0.2</td>\n",
              "      <td>0.0</td>\n",
              "    </tr>\n",
              "    <tr>\n",
              "      <th>4</th>\n",
              "      <td>5.0</td>\n",
              "      <td>3.6</td>\n",
              "      <td>1.4</td>\n",
              "      <td>0.2</td>\n",
              "      <td>0.0</td>\n",
              "    </tr>\n",
              "    <tr>\n",
              "      <th>...</th>\n",
              "      <td>...</td>\n",
              "      <td>...</td>\n",
              "      <td>...</td>\n",
              "      <td>...</td>\n",
              "      <td>...</td>\n",
              "    </tr>\n",
              "    <tr>\n",
              "      <th>145</th>\n",
              "      <td>6.7</td>\n",
              "      <td>3.0</td>\n",
              "      <td>5.2</td>\n",
              "      <td>2.3</td>\n",
              "      <td>2.0</td>\n",
              "    </tr>\n",
              "    <tr>\n",
              "      <th>146</th>\n",
              "      <td>6.3</td>\n",
              "      <td>2.5</td>\n",
              "      <td>5.0</td>\n",
              "      <td>1.9</td>\n",
              "      <td>2.0</td>\n",
              "    </tr>\n",
              "    <tr>\n",
              "      <th>147</th>\n",
              "      <td>6.5</td>\n",
              "      <td>3.0</td>\n",
              "      <td>5.2</td>\n",
              "      <td>2.0</td>\n",
              "      <td>2.0</td>\n",
              "    </tr>\n",
              "    <tr>\n",
              "      <th>148</th>\n",
              "      <td>6.2</td>\n",
              "      <td>3.4</td>\n",
              "      <td>5.4</td>\n",
              "      <td>2.3</td>\n",
              "      <td>2.0</td>\n",
              "    </tr>\n",
              "    <tr>\n",
              "      <th>149</th>\n",
              "      <td>5.9</td>\n",
              "      <td>3.0</td>\n",
              "      <td>5.1</td>\n",
              "      <td>1.8</td>\n",
              "      <td>2.0</td>\n",
              "    </tr>\n",
              "  </tbody>\n",
              "</table>\n",
              "<p>150 rows × 5 columns</p>\n",
              "</div>\n",
              "      <button class=\"colab-df-convert\" onclick=\"convertToInteractive('df-e4889d79-3e00-4366-81e2-7f7ac47cda2a')\"\n",
              "              title=\"Convert this dataframe to an interactive table.\"\n",
              "              style=\"display:none;\">\n",
              "        \n",
              "  <svg xmlns=\"http://www.w3.org/2000/svg\" height=\"24px\"viewBox=\"0 0 24 24\"\n",
              "       width=\"24px\">\n",
              "    <path d=\"M0 0h24v24H0V0z\" fill=\"none\"/>\n",
              "    <path d=\"M18.56 5.44l.94 2.06.94-2.06 2.06-.94-2.06-.94-.94-2.06-.94 2.06-2.06.94zm-11 1L8.5 8.5l.94-2.06 2.06-.94-2.06-.94L8.5 2.5l-.94 2.06-2.06.94zm10 10l.94 2.06.94-2.06 2.06-.94-2.06-.94-.94-2.06-.94 2.06-2.06.94z\"/><path d=\"M17.41 7.96l-1.37-1.37c-.4-.4-.92-.59-1.43-.59-.52 0-1.04.2-1.43.59L10.3 9.45l-7.72 7.72c-.78.78-.78 2.05 0 2.83L4 21.41c.39.39.9.59 1.41.59.51 0 1.02-.2 1.41-.59l7.78-7.78 2.81-2.81c.8-.78.8-2.07 0-2.86zM5.41 20L4 18.59l7.72-7.72 1.47 1.35L5.41 20z\"/>\n",
              "  </svg>\n",
              "      </button>\n",
              "      \n",
              "  <style>\n",
              "    .colab-df-container {\n",
              "      display:flex;\n",
              "      flex-wrap:wrap;\n",
              "      gap: 12px;\n",
              "    }\n",
              "\n",
              "    .colab-df-convert {\n",
              "      background-color: #E8F0FE;\n",
              "      border: none;\n",
              "      border-radius: 50%;\n",
              "      cursor: pointer;\n",
              "      display: none;\n",
              "      fill: #1967D2;\n",
              "      height: 32px;\n",
              "      padding: 0 0 0 0;\n",
              "      width: 32px;\n",
              "    }\n",
              "\n",
              "    .colab-df-convert:hover {\n",
              "      background-color: #E2EBFA;\n",
              "      box-shadow: 0px 1px 2px rgba(60, 64, 67, 0.3), 0px 1px 3px 1px rgba(60, 64, 67, 0.15);\n",
              "      fill: #174EA6;\n",
              "    }\n",
              "\n",
              "    [theme=dark] .colab-df-convert {\n",
              "      background-color: #3B4455;\n",
              "      fill: #D2E3FC;\n",
              "    }\n",
              "\n",
              "    [theme=dark] .colab-df-convert:hover {\n",
              "      background-color: #434B5C;\n",
              "      box-shadow: 0px 1px 3px 1px rgba(0, 0, 0, 0.15);\n",
              "      filter: drop-shadow(0px 1px 2px rgba(0, 0, 0, 0.3));\n",
              "      fill: #FFFFFF;\n",
              "    }\n",
              "  </style>\n",
              "\n",
              "      <script>\n",
              "        const buttonEl =\n",
              "          document.querySelector('#df-e4889d79-3e00-4366-81e2-7f7ac47cda2a button.colab-df-convert');\n",
              "        buttonEl.style.display =\n",
              "          google.colab.kernel.accessAllowed ? 'block' : 'none';\n",
              "\n",
              "        async function convertToInteractive(key) {\n",
              "          const element = document.querySelector('#df-e4889d79-3e00-4366-81e2-7f7ac47cda2a');\n",
              "          const dataTable =\n",
              "            await google.colab.kernel.invokeFunction('convertToInteractive',\n",
              "                                                     [key], {});\n",
              "          if (!dataTable) return;\n",
              "\n",
              "          const docLinkHtml = 'Like what you see? Visit the ' +\n",
              "            '<a target=\"_blank\" href=https://colab.research.google.com/notebooks/data_table.ipynb>data table notebook</a>'\n",
              "            + ' to learn more about interactive tables.';\n",
              "          element.innerHTML = '';\n",
              "          dataTable['output_type'] = 'display_data';\n",
              "          await google.colab.output.renderOutput(dataTable, element);\n",
              "          const docLink = document.createElement('div');\n",
              "          docLink.innerHTML = docLinkHtml;\n",
              "          element.appendChild(docLink);\n",
              "        }\n",
              "      </script>\n",
              "    </div>\n",
              "  </div>\n",
              "  "
            ]
          },
          "metadata": {},
          "execution_count": 12
        }
      ],
      "source": [
        "import pandas as pd\n",
        "import numpy as np\n",
        "import seaborn as sns\n",
        "from sklearn import datasets\n",
        "\n",
        "iris = datasets.load_iris()\n",
        "iris = pd.DataFrame(data= np.c_[iris['data'], iris['target']],\n",
        "                     columns= iris['feature_names'] + ['target'])\n",
        "iris"
      ]
    },
    {
      "cell_type": "markdown",
      "metadata": {
        "id": "HdhCpHQ6Bymp"
      },
      "source": [
        "---\n",
        "---\n",
        "1- Baseado na descrição do conjunto de dados formule algumas hipótese, perguntas que você acha que podem ser respondidas/entendidas com este conjunto de dados. Tente formular até 3 questões. Numere cada questão.\n",
        "    1. A descrição diz que uma das 3 classes é linearmente separável, então pode ser possível utilizar apenas um atributo para fazer a separação entre essa classe das outras duas;\n",
        "    2. A distribuição das medidas deve seguir uma normal;\n",
        "    3. Deve haver correlação entre a largura e comprimento da pétala e da sépala.\n",
        "    \n",
        "    Você pode fazer perguntas mais alto nível, como é possível entender o comportamento de determinado subconjunto."
      ]
    },
    {
      "cell_type": "markdown",
      "metadata": {
        "id": "DHjsVkHSBymq"
      },
      "source": [
        "---\n",
        "---\n",
        "2- Escolha 5 atributos que você acha representar bem o problema e faça uma análise dos tipos de atributos e quais operações fazem sentido para cada um. Justifique a escolha desses atributos no contexto do conjunto de dados e com relação às hipótese/questões levantadas na pergunta 1.\n",
        "    \n",
        "    Como esse conjunto de dados têm apenas 4 atributos além da classe, a análise será feita com todos os atributos.\n",
        "    \n",
        "    Todos os atributos são numéricos, contínuos.\n",
        "    É possível fazer operações numéricas usuais, ordenação, calcular distâncias entre exemplos utilizando a distância euclidiana por exemplo.\n",
        "    \n",
        "    Para saber se esses atributos serão úteis para responder as perguntas é preciso fazer uma análise exploratória para determinar média, desvio padrão, e correlação."
      ]
    },
    {
      "cell_type": "code",
      "source": [
        "from sklearn import datasets\n",
        "import pandas as pd\n",
        "import numpy as np\n",
        "\n",
        "cor= iris.corr()\n",
        "sns.heatmap(data=cor, annot=True)"
      ],
      "metadata": {
        "colab": {
          "base_uri": "https://localhost:8080/",
          "height": 365
        },
        "id": "N44xEPdLIiuK",
        "outputId": "e2899c3b-7922-4dab-b66a-3d0af9a81ea5"
      },
      "execution_count": null,
      "outputs": [
        {
          "output_type": "execute_result",
          "data": {
            "text/plain": [
              "<Axes: >"
            ]
          },
          "metadata": {},
          "execution_count": 13
        },
        {
          "output_type": "display_data",
          "data": {
            "text/plain": [
              "<Figure size 432x288 with 2 Axes>"
            ],
            "image/png": "[encoded data removed]"
          },
          "metadata": {
            "needs_background": "light"
          }
        }
      ]
    },
    {
      "cell_type": "code",
      "source": [
        "colors=np.array(50*['r']+50*['g']+50*['b'])\n",
        "dispersao = iris.plot.scatter(x = 'sepal length (cm)', y = 'sepal width (cm)', color=colors)"
      ],
      "metadata": {
        "colab": {
          "base_uri": "https://localhost:8080/",
          "height": 319
        },
        "id": "S1fHea0BYTsx",
        "outputId": "01719623-738c-407c-d83b-222c1b97bfef"
      },
      "execution_count": null,
      "outputs": [
        {
          "output_type": "stream",
          "name": "stderr",
          "text": [
            "/usr/local/lib/python3.9/dist-packages/pandas/plotting/_matplotlib/core.py:1114: UserWarning: No data for colormapping provided via 'c'. Parameters 'cmap' will be ignored\n",
            "  scatter = ax.scatter(\n"
          ]
        },
        {
          "output_type": "display_data",
          "data": {
            "text/plain": [
              "<Figure size 432x288 with 1 Axes>"
            ],
            "image/png": "[encoded data removed]"
          },
          "metadata": {
            "needs_background": "light"
          }
        }
      ]
    },
    {
      "cell_type": "markdown",
      "metadata": {
        "id": "eW_LI_JoBymq"
      },
      "source": [
        "---\n",
        "---\n",
        "3- Faça uma análise exploratória com as medidas vistas em aula (média, mediana, moda, ...) nos atributos anteriormente selecionados. Explique o porque você usou tal medida e como ela ajuda no entendimento do conjunto de dados. Sinta-se livre para utilizar outras medidas, mas explique porque você está usando elas. Se achar necessário, pode utilizar mais atributos na análise.\n",
        "\n"
      ]
    },
    {
      "cell_type": "code",
      "execution_count": null,
      "metadata": {
        "id": "WHJYIxgBBymq",
        "outputId": "095a2db9-ae72-4385-fbdc-e02b29646c72",
        "colab": {
          "base_uri": "https://localhost:8080/"
        }
      },
      "outputs": [
        {
          "output_type": "stream",
          "name": "stdout",
          "text": [
            "       sepal length (cm)  sepal width (cm)  petal length (cm)  \\\n",
            "count         150.000000        150.000000         150.000000   \n",
            "mean            5.843333          3.057333           3.758000   \n",
            "std             0.828066          0.435866           1.765298   \n",
            "min             4.300000          2.000000           1.000000   \n",
            "25%             5.100000          2.800000           1.600000   \n",
            "50%             5.800000          3.000000           4.350000   \n",
            "75%             6.400000          3.300000           5.100000   \n",
            "max             7.900000          4.400000           6.900000   \n",
            "\n",
            "       petal width (cm)      target  \n",
            "count        150.000000  150.000000  \n",
            "mean           1.199333    1.000000  \n",
            "std            0.762238    0.819232  \n",
            "min            0.100000    0.000000  \n",
            "25%            0.300000    0.000000  \n",
            "50%            1.300000    1.000000  \n",
            "75%            1.800000    2.000000  \n",
            "max            2.500000    2.000000  \n",
            "\n",
            "Moda [0    5.0\n",
            "Name: sepal length (cm), dtype: float64, 0    3.0\n",
            "Name: sepal width (cm), dtype: float64, 0    1.4\n",
            "1    1.5\n",
            "Name: petal length (cm), dtype: float64, 0    0.2\n",
            "Name: petal width (cm), dtype: float64, 0    0.0\n",
            "1    1.0\n",
            "2    2.0\n",
            "Name: target, dtype: float64]\n",
            "\n",
            "Moda primeira coluna    sepal length (cm)\n",
            "0                5.0\n",
            "Moda segunda coluna    sepal width (cm)\n",
            "0               3.0\n",
            "Moda terceira coluna    petal length (cm)\n",
            "0                1.4\n",
            "1                1.5\n",
            "Moda quarta coluna    petal width (cm)\n",
            "0               0.2\n"
          ]
        }
      ],
      "source": [
        "# como tem 4 atributos o describe já calcula bastante coisa\n",
        "print(iris.describe())\n",
        "\n",
        "print('\\nModa %s'%[iris[c].mode() for c in iris.columns])\n",
        "# ruim de visualizar, fazer na mão para entender melhor\n",
        "\n",
        "print('\\nModa primeira coluna %s'%iris.iloc[:, [0]].mode())\n",
        "print('Moda segunda coluna %s'%iris.iloc[:, [1]].mode())\n",
        "print('Moda terceira coluna %s'%iris.iloc[:, [2]].mode())\n",
        "print('Moda quarta coluna %s'%iris.iloc[:, [3]].mode())"
      ]
    },
    {
      "cell_type": "markdown",
      "source": [
        "Determine quantos valores unicos cada classe possui."
      ],
      "metadata": {
        "id": "4hCyZxK-IgEW"
      }
    },
    {
      "cell_type": "code",
      "execution_count": null,
      "metadata": {
        "id": "GsZPoIrbBymr",
        "outputId": "73508638-302e-4c73-ecc9-12595354d86e"
      },
      "outputs": [
        {
          "name": "stdout",
          "output_type": "stream",
          "text": [
            "Mostrar as classes [0. 1. 2.]\n",
            "\n",
            "exemplos por classe [sepal length (cm)    50\n",
            "sepal width (cm)     50\n",
            "petal length (cm)    50\n",
            "petal width (cm)     50\n",
            "target               50\n",
            "dtype: int64, sepal length (cm)    50\n",
            "sepal width (cm)     50\n",
            "petal length (cm)    50\n",
            "petal width (cm)     50\n",
            "target               50\n",
            "dtype: int64, sepal length (cm)    50\n",
            "sepal width (cm)     50\n",
            "petal length (cm)    50\n",
            "petal width (cm)     50\n",
            "target               50\n",
            "dtype: int64]\n",
            "\n",
            "exemplos por classe [50, 50, 50]\n"
          ]
        }
      ],
      "source": [
        "# quantos valores únicos de cada classe há ?\n",
        "\n",
        "classes = iris.target.unique()\n",
        "print('Mostrar as classes %s\\n'%classes)\n",
        "print('exemplos por classe %s'%[iris[iris.target == c].count() for c in classes])\n",
        "# assim mostra o número de exemplos para cada coluna, não quero assim\n",
        "print('\\nexemplos por classe %s'%[iris[iris.target == c].count()[0] for c in classes])\n",
        "\n",
        "# o número de exemplos por classe está bem distribuído"
      ]
    },
    {
      "cell_type": "code",
      "execution_count": null,
      "metadata": {
        "id": "4dj4x-d4Bymr",
        "outputId": "4570c463-daa2-430f-b358-457a809dc9ab"
      },
      "outputs": [
        {
          "name": "stdout",
          "output_type": "stream",
          "text": [
            "\n",
            "Classe 0.0\n",
            "       sepal length (cm)  sepal width (cm)  petal length (cm)  \\\n",
            "count           50.00000         50.000000          50.000000   \n",
            "mean             5.00600          3.418000           1.464000   \n",
            "std              0.35249          0.381024           0.173511   \n",
            "min              4.30000          2.300000           1.000000   \n",
            "25%              4.80000          3.125000           1.400000   \n",
            "50%              5.00000          3.400000           1.500000   \n",
            "75%              5.20000          3.675000           1.575000   \n",
            "max              5.80000          4.400000           1.900000   \n",
            "\n",
            "       petal width (cm)  target  \n",
            "count          50.00000    50.0  \n",
            "mean            0.24400     0.0  \n",
            "std             0.10721     0.0  \n",
            "min             0.10000     0.0  \n",
            "25%             0.20000     0.0  \n",
            "50%             0.20000     0.0  \n",
            "75%             0.30000     0.0  \n",
            "max             0.60000     0.0  \n",
            "\n",
            "Classe 1.0\n",
            "       sepal length (cm)  sepal width (cm)  petal length (cm)  \\\n",
            "count          50.000000         50.000000          50.000000   \n",
            "mean            5.936000          2.770000           4.260000   \n",
            "std             0.516171          0.313798           0.469911   \n",
            "min             4.900000          2.000000           3.000000   \n",
            "25%             5.600000          2.525000           4.000000   \n",
            "50%             5.900000          2.800000           4.350000   \n",
            "75%             6.300000          3.000000           4.600000   \n",
            "max             7.000000          3.400000           5.100000   \n",
            "\n",
            "       petal width (cm)  target  \n",
            "count         50.000000    50.0  \n",
            "mean           1.326000     1.0  \n",
            "std            0.197753     0.0  \n",
            "min            1.000000     1.0  \n",
            "25%            1.200000     1.0  \n",
            "50%            1.300000     1.0  \n",
            "75%            1.500000     1.0  \n",
            "max            1.800000     1.0  \n",
            "\n",
            "Classe 2.0\n",
            "       sepal length (cm)  sepal width (cm)  petal length (cm)  \\\n",
            "count           50.00000         50.000000          50.000000   \n",
            "mean             6.58800          2.974000           5.552000   \n",
            "std              0.63588          0.322497           0.551895   \n",
            "min              4.90000          2.200000           4.500000   \n",
            "25%              6.22500          2.800000           5.100000   \n",
            "50%              6.50000          3.000000           5.550000   \n",
            "75%              6.90000          3.175000           5.875000   \n",
            "max              7.90000          3.800000           6.900000   \n",
            "\n",
            "       petal width (cm)  target  \n",
            "count          50.00000    50.0  \n",
            "mean            2.02600     2.0  \n",
            "std             0.27465     0.0  \n",
            "min             1.40000     2.0  \n",
            "25%             1.80000     2.0  \n",
            "50%             2.00000     2.0  \n",
            "75%             2.30000     2.0  \n",
            "max             2.50000     2.0  \n"
          ]
        }
      ],
      "source": [
        "# Faremos a análise acima por classe\n",
        "\n",
        "for c in classes:\n",
        "    print('\\nClasse %s\\n%s'%(c, iris[iris.target == c].describe()))\n"
      ]
    },
    {
      "cell_type": "code",
      "execution_count": null,
      "metadata": {
        "id": "zzFZ4XK4Bymr",
        "outputId": "0871a389-7bcc-41d5-9d2a-10246829ebad"
      },
      "outputs": [
        {
          "name": "stdout",
          "output_type": "stream",
          "text": [
            "\n",
            "Classe 0.0\n",
            "atributo sepal length (cm) 5.01 0.35 5.00\n",
            "atributo sepal width (cm) 3.42 0.38 3.40\n",
            "atributo petal length (cm) 1.46 0.17 1.50\n",
            "atributo petal width (cm) 0.24 0.11 0.20\n",
            "\n",
            "Classe 1.0\n",
            "atributo sepal length (cm) 5.94 0.52 5.90\n",
            "atributo sepal width (cm) 2.77 0.31 2.80\n",
            "atributo petal length (cm) 4.26 0.47 4.35\n",
            "atributo petal width (cm) 1.33 0.20 1.30\n",
            "\n",
            "Classe 2.0\n",
            "atributo sepal length (cm) 6.59 0.64 6.50\n",
            "atributo sepal width (cm) 2.97 0.32 3.00\n",
            "atributo petal length (cm) 5.55 0.55 5.55\n",
            "atributo petal width (cm) 2.03 0.27 2.00\n"
          ]
        }
      ],
      "source": [
        "# tem muita informação junta e está difícil comparar as coisas,\n",
        "# vamos mostrar apenas a média e desvio padrão e mediana entre as classes\n",
        "\n",
        "for c in classes:\n",
        "    print('\\nClasse %s'%c)\n",
        "    sample = iris[iris.target == c]\n",
        "    cols = sample.columns\n",
        "    for col in cols[:-1]:\n",
        "        print('atributo %s %.2f %.2f %.2f'%(col, sample[col].mean(), sample[col].std(), sample[col].median()))\n"
      ]
    },
    {
      "cell_type": "code",
      "execution_count": null,
      "metadata": {
        "id": "fcpJ3eP-Bymr",
        "outputId": "ae9587d2-6a2a-41f0-ed2e-8f0f9cd97a11"
      },
      "outputs": [
        {
          "name": "stdout",
          "output_type": "stream",
          "text": [
            "correlacao para sepata                    sepal length (cm)  sepal width (cm)\n",
            "sepal length (cm)           1.000000         -0.109369\n",
            "sepal width (cm)           -0.109369          1.000000\n",
            "correlacao para petala                    petal length (cm)  petal width (cm)\n",
            "petal length (cm)           1.000000          0.962757\n",
            "petal width (cm)            0.962757          1.000000\n"
          ]
        }
      ],
      "source": [
        "# tendo em mente as perguntas que fiz no ítem 1 ainda quero descobrir se há correlação entre\n",
        "# comprimento e largura da sepala e da petala\n",
        "\n",
        "print('correlacao para sepala %s'%iris.iloc[:, [0,1]].corr())\n",
        "\n",
        "print('correlacao para petala %s'%iris.iloc[:, [2,3]].corr())"
      ]
    },
    {
      "cell_type": "markdown",
      "metadata": {
        "id": "PgI6DewuByms"
      },
      "source": [
        "---\n",
        "---\n",
        "4- Após a análise exploratória reanalise as hipóteses/questões e comente se elas já podem ser respondidas, se elas não fazem mais sentido, eventualmente se elas podem ser reformuladas para questões\n",
        "    \n",
        "    1- Utilizando a largura da pétala é possível diferenciar as classes 1 (média 1.33, dp 0.20) e 2 (média 2.03, dp 0.27) da classe 0 (média 0.24, dp 0.11) pela média e desvio padrão.\n",
        "    \n",
        "    2- Ainda não temos informações suficientes para saber se as distribuições seguem uma normal só com as análses feitas. Mas dá para saber que se seguem elas não terão os mesmos parâmetros para todos os atributos, pois as médias e desvios padrão são diferentes entre os atributos.\n",
        "    \n",
        "    3- Pela última análise há forte correlação entre comprimento e largura da pétala, mas a correlação é baixa na sépala.\n",
        "    \n",
        "    Aqui é onde vem a discussão sobre o que vocês achavam que iriam conseguir fazer (perguntas iniciais) e o que efetivamente conseguiram fazer. Quais perguntas agora vocês acham não conseguem responder e porque, o que está faltando para isso. E se agora de posse de um conhecimento maior sobre o conjunto de dados, é possível formular outras perguntas interessantes."
      ]
    },
    {
      "cell_type": "markdown",
      "metadata": {
        "id": "865qIsNnByms"
      },
      "source": [
        "---\n",
        "---\n",
        "5- Quais \"problema(s)\" o conjunto de dados apresenta e como isso impactou formulação e entendimento do conjunto de dados e o problema que ele representa. Argumente. Por problemas entenda valores ausentes, inconsistências e etc.\n",
        "\n",
        "    Como o conjunto de dados escolhido faz parte da primeira parte, ele está bem estruturado e nesse caso não há nenhum valor ausente ou inconsistência. Como os atributos são todos numéricos, as técnicas vistas em classe de análise exploratória puderam ser utilizadas sem problemas.\n",
        "    Como ele é muito simplista, apenas 4 atributos para separar entre 3 classes de plantas não é possível fazer análises muito complicadas. Apesar disse foi possível ver que com apenas um atributo é possível distinguir uma das classes"
      ]
    }
  ],
  "metadata": {
    "kernelspec": {
      "display_name": "Python 3",
      "language": "python",
      "name": "python3"
    },
    "language_info": {
      "codemirror_mode": {
        "name": "ipython",
        "version": 3
      },
      "file_extension": ".py",
      "mimetype": "text/x-python",
      "name": "python",
      "nbconvert_exporter": "python",
      "pygments_lexer": "ipython3",
      "version": "3.6.5"
    },
    "colab": {
      "provenance": [],
      "collapsed_sections": [
        "dEbnm0DDBymZ"
      ]
    }
  },
  "nbformat": 4,
  "nbformat_minor": 0
}