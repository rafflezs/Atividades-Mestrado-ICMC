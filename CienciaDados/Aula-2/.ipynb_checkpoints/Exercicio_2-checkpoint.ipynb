{
  "nbformat": 4,
  "nbformat_minor": 0,
  "metadata": {
    "colab": {
      "provenance": []
    },
    "kernelspec": {
      "name": "python3",
      "display_name": "Python 3"
    },
    "language_info": {
      "name": "python"
    }
  },
  "cells": [
    {
      "cell_type": "markdown",
      "source": [
        "## Exercicio 02 - Exploração de dados - Parte I e II\n",
        "## SCC-5948/MAI5024 - CIENCIA DE DADOS\n",
        "## PROFa. Dra. Roseli A. F. Romero\n",
        "----\n",
        "Objetivos da prática:\n",
        "- Carregar os dados\n",
        "- Navegar nos dados\n",
        "- Selecionar e extraír registros específicos\n",
        "- Realizar análises simples nos dados\n",
        "- Formular e responder perguntas sobre os dados\n",
        "- Visualizar dados reais (\"sujos\")\n"
      ],
      "metadata": {
        "id": "xY_1Ocpq-n-w"
      }
    },
    {
      "cell_type": "markdown",
      "source": [
        "### Funções utilizadas na prática\n",
        "\n",
        "\n",
        "- mean(axis=None, skipna=None, level=None, numeric_only=None)\n",
        "\n",
        "- median(axis=None, skipna=None, level=None, numeric_only=None)\n",
        "\n",
        "- mode\n",
        "\n",
        "- quantile(q=0.5, interpolation='linear')\n",
        "    \n",
        "- unique\n",
        "    \n",
        "- describe(percentiles=None, include=None, exclude=None)"
      ],
      "metadata": {
        "id": "rcP-rLUm-8Rt"
      }
    },
    {
      "cell_type": "markdown",
      "source": [
        "- Base de Dados:\n",
        "Titanic\n",
        "https://www.kaggle.com/c/titanic/data\n",
        "\n",
        "Microdados Enem 2022\n",
        "Considere o dataset extraído dos dados do ENEM 2022 disponível no arquivo anostra_enem2022.csv. Esse dataset contem informações sobre os alunos, escolas e notas dos alunos nas diferentes provas.\n",
        "Considere como atributos numéricos apenas os que são do tipo FLOAT64.\n"
      ],
      "metadata": {
        "id": "nAZnG0I5_BaL"
      }
    },
    {
      "cell_type": "markdown",
      "source": [
        "Para cada conjunto de dados, realizar as seguintes atividades:\n",
        "\n",
        "\n",
        "\n",
        "1- Baseado na descrição do conjunto de dados formule algumas hipótese, perguntas que você acha que podem ser respondidas/entendidas com este conjunto de dados. Tente formular até 3 questões. Numere cada questão.\n",
        "\n",
        "\n",
        "2- Escolha 5 atributos que você acha representar bem o problema e faça uma análise dos tipos de atributos (calcule a matriz de correlação). Justifique a escolha desses atributos no contexto do conjunto de dados e com relação às hipótese/questões levantadas na pergunta 1.\n",
        "\n",
        "3 - Exiba o mapa de calor (heatmap) correspondente da matriz de correlação.\n",
        "\n",
        "4 - Faça uma análise exploratória com as medidas vistas em aula (média, mediana, moda, obliquidade e kurtose) nos atributos anteriormente selecionados. Explique quais medidas ajudam no entendimento do conjunto de dados. Sinta-se livre para utilizar outras medidas, mas explique porque você está usando elas. Se achar necessário, pode utilizar mais atributos na análise.\n",
        "\n",
        "5 - Exiba o histograma correspondente a cada um dos atributos escolhidos.\n",
        "\n",
        "6 - Faça o boxplot correspondente a cada um dos atributos escolhidos.\n",
        "\n",
        "7 - Detectar se existem outliers. Se existirem, quais são eles?\n",
        "\n",
        "8 - Após a análise exploratória reanalise as hipóteses/questões e comente se elas já podem ser respondidas, se elas não fazem mais sentido, eventualmente se elas podem ser reformuladas para questões\n",
        "\n",
        "\n",
        "\n",
        "\n",
        "\n",
        "---\n",
        "## Entrega\n",
        "A entrega da prática deve ser feita em formato do próprio notebook. Crie um notebook seu, nas primeiras linhas identifique os membros da dupla, salve o notebook com o nome pratica_I_nome1_nome2.\n",
        "No corpo da prática primeiro identifique qual o conjunto de dados escolhido e começe a responder as perguntas no corpo do notebook. Procure utilizar as caixas de texto para a discussão da discussão (o notebook tem caixas de texto e de código).\n"
      ],
      "metadata": {
        "id": "LhUiDAg-A0Or"
      }
    }
  ]
}