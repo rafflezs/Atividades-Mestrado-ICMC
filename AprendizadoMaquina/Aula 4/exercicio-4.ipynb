{
 "cells": [
  {
   "cell_type": "markdown",
   "metadata": {
    "id": "mGKHv1rCvyRJ"
   },
   "source": [
    "# SCC-ICMC-USP - 1o. semestre de 2024\n",
    "# SCC5871/MAI5025 - APRENDIZADO DE MÁQUINA\n",
    "# **Exercício 4**\n",
    "\n",
    "### Profa. Roseli A. F. Romero\n",
    "\n",
    "\n",
    "Nro do grupo:\n",
    "\n",
    "Alunos:\n",
    "\n",
    "\n",
    "1.   Julyana Flores de Prá  \n",
    "2.   Thiago Rafael Mariotti Claudio\n"
   ]
  },
  {
   "cell_type": "markdown",
   "metadata": {
    "id": "5W60BKvfr2pq"
   },
   "source": [
    "O dataset \"Breast Cancer Wisconsin\" é um dataset que contém 699 instâncias, cada uma com 10 atributos númericos e 1 atributo correspondente a classe. A idéia do dataset é conseguir classificar um tumor como benigno ou maligno a partir de 10 variáveis descritivas. Foi adicionado um cabeçalho no arquivo original para facilitar seu manuseio."
   ]
  },
  {
   "cell_type": "markdown",
   "metadata": {
    "id": "7D9C-F06urva"
   },
   "source": [
    "### **Questão 1**\n",
    "\n",
    " - Separe o conjunto em treinamento (80%) e teste (20%)\n",
    " - Verifique se é necessário um preprocessamento nos dados. Justifique o(s) tipo (s) de preprocessamento que foram feitos\n",
    " - Dica: O Sklearn não trabalha com atributos nominais em árvores de decisão"
   ]
  },
  {
   "cell_type": "code",
   "execution_count": 50,
   "metadata": {
    "executionInfo": {
     "elapsed": 2174,
     "status": "ok",
     "timestamp": 1716557529883,
     "user": {
      "displayName": "Roseli Aparecida Francelin Romero",
      "userId": "04295547795514221387"
     },
     "user_tz": 180
    },
    "id": "wT9Yj9lzsb8V"
   },
   "outputs": [
    {
     "data": {
      "text/html": [
       "<div>\n",
       "<style scoped>\n",
       "    .dataframe tbody tr th:only-of-type {\n",
       "        vertical-align: middle;\n",
       "    }\n",
       "\n",
       "    .dataframe tbody tr th {\n",
       "        vertical-align: top;\n",
       "    }\n",
       "\n",
       "    .dataframe thead th {\n",
       "        text-align: right;\n",
       "    }\n",
       "</style>\n",
       "<table border=\"1\" class=\"dataframe\">\n",
       "  <thead>\n",
       "    <tr style=\"text-align: right;\">\n",
       "      <th></th>\n",
       "      <th>Feature0</th>\n",
       "      <th>Feature1</th>\n",
       "      <th>Feature2</th>\n",
       "      <th>Feature3</th>\n",
       "      <th>Feature4</th>\n",
       "      <th>Feature5</th>\n",
       "      <th>Feature6</th>\n",
       "      <th>Feature7</th>\n",
       "      <th>Feature8</th>\n",
       "      <th>Feature9</th>\n",
       "      <th>Target</th>\n",
       "    </tr>\n",
       "  </thead>\n",
       "  <tbody>\n",
       "    <tr>\n",
       "      <th>0</th>\n",
       "      <td>1000025</td>\n",
       "      <td>5</td>\n",
       "      <td>1</td>\n",
       "      <td>1</td>\n",
       "      <td>1</td>\n",
       "      <td>2</td>\n",
       "      <td>1.0</td>\n",
       "      <td>3</td>\n",
       "      <td>1</td>\n",
       "      <td>1</td>\n",
       "      <td>2</td>\n",
       "    </tr>\n",
       "    <tr>\n",
       "      <th>1</th>\n",
       "      <td>1002945</td>\n",
       "      <td>5</td>\n",
       "      <td>4</td>\n",
       "      <td>4</td>\n",
       "      <td>5</td>\n",
       "      <td>7</td>\n",
       "      <td>10.0</td>\n",
       "      <td>3</td>\n",
       "      <td>2</td>\n",
       "      <td>1</td>\n",
       "      <td>2</td>\n",
       "    </tr>\n",
       "    <tr>\n",
       "      <th>2</th>\n",
       "      <td>1015425</td>\n",
       "      <td>3</td>\n",
       "      <td>1</td>\n",
       "      <td>1</td>\n",
       "      <td>1</td>\n",
       "      <td>2</td>\n",
       "      <td>2.0</td>\n",
       "      <td>3</td>\n",
       "      <td>1</td>\n",
       "      <td>1</td>\n",
       "      <td>2</td>\n",
       "    </tr>\n",
       "    <tr>\n",
       "      <th>3</th>\n",
       "      <td>1016277</td>\n",
       "      <td>6</td>\n",
       "      <td>8</td>\n",
       "      <td>8</td>\n",
       "      <td>1</td>\n",
       "      <td>3</td>\n",
       "      <td>4.0</td>\n",
       "      <td>3</td>\n",
       "      <td>7</td>\n",
       "      <td>1</td>\n",
       "      <td>2</td>\n",
       "    </tr>\n",
       "    <tr>\n",
       "      <th>4</th>\n",
       "      <td>1017023</td>\n",
       "      <td>4</td>\n",
       "      <td>1</td>\n",
       "      <td>1</td>\n",
       "      <td>3</td>\n",
       "      <td>2</td>\n",
       "      <td>1.0</td>\n",
       "      <td>3</td>\n",
       "      <td>1</td>\n",
       "      <td>1</td>\n",
       "      <td>2</td>\n",
       "    </tr>\n",
       "    <tr>\n",
       "      <th>...</th>\n",
       "      <td>...</td>\n",
       "      <td>...</td>\n",
       "      <td>...</td>\n",
       "      <td>...</td>\n",
       "      <td>...</td>\n",
       "      <td>...</td>\n",
       "      <td>...</td>\n",
       "      <td>...</td>\n",
       "      <td>...</td>\n",
       "      <td>...</td>\n",
       "      <td>...</td>\n",
       "    </tr>\n",
       "    <tr>\n",
       "      <th>694</th>\n",
       "      <td>776715</td>\n",
       "      <td>3</td>\n",
       "      <td>1</td>\n",
       "      <td>1</td>\n",
       "      <td>1</td>\n",
       "      <td>3</td>\n",
       "      <td>2.0</td>\n",
       "      <td>1</td>\n",
       "      <td>1</td>\n",
       "      <td>1</td>\n",
       "      <td>2</td>\n",
       "    </tr>\n",
       "    <tr>\n",
       "      <th>695</th>\n",
       "      <td>841769</td>\n",
       "      <td>2</td>\n",
       "      <td>1</td>\n",
       "      <td>1</td>\n",
       "      <td>1</td>\n",
       "      <td>2</td>\n",
       "      <td>1.0</td>\n",
       "      <td>1</td>\n",
       "      <td>1</td>\n",
       "      <td>1</td>\n",
       "      <td>2</td>\n",
       "    </tr>\n",
       "    <tr>\n",
       "      <th>696</th>\n",
       "      <td>888820</td>\n",
       "      <td>5</td>\n",
       "      <td>10</td>\n",
       "      <td>10</td>\n",
       "      <td>3</td>\n",
       "      <td>7</td>\n",
       "      <td>3.0</td>\n",
       "      <td>8</td>\n",
       "      <td>10</td>\n",
       "      <td>2</td>\n",
       "      <td>4</td>\n",
       "    </tr>\n",
       "    <tr>\n",
       "      <th>697</th>\n",
       "      <td>897471</td>\n",
       "      <td>4</td>\n",
       "      <td>8</td>\n",
       "      <td>6</td>\n",
       "      <td>4</td>\n",
       "      <td>3</td>\n",
       "      <td>4.0</td>\n",
       "      <td>10</td>\n",
       "      <td>6</td>\n",
       "      <td>1</td>\n",
       "      <td>4</td>\n",
       "    </tr>\n",
       "    <tr>\n",
       "      <th>698</th>\n",
       "      <td>897471</td>\n",
       "      <td>4</td>\n",
       "      <td>8</td>\n",
       "      <td>8</td>\n",
       "      <td>5</td>\n",
       "      <td>4</td>\n",
       "      <td>5.0</td>\n",
       "      <td>10</td>\n",
       "      <td>4</td>\n",
       "      <td>1</td>\n",
       "      <td>4</td>\n",
       "    </tr>\n",
       "  </tbody>\n",
       "</table>\n",
       "<p>699 rows × 11 columns</p>\n",
       "</div>"
      ],
      "text/plain": [
       "     Feature0  Feature1  Feature2  Feature3  Feature4  Feature5  Feature6  \\\n",
       "0     1000025         5         1         1         1         2       1.0   \n",
       "1     1002945         5         4         4         5         7      10.0   \n",
       "2     1015425         3         1         1         1         2       2.0   \n",
       "3     1016277         6         8         8         1         3       4.0   \n",
       "4     1017023         4         1         1         3         2       1.0   \n",
       "..        ...       ...       ...       ...       ...       ...       ...   \n",
       "694    776715         3         1         1         1         3       2.0   \n",
       "695    841769         2         1         1         1         2       1.0   \n",
       "696    888820         5        10        10         3         7       3.0   \n",
       "697    897471         4         8         6         4         3       4.0   \n",
       "698    897471         4         8         8         5         4       5.0   \n",
       "\n",
       "     Feature7  Feature8  Feature9  Target  \n",
       "0           3         1         1       2  \n",
       "1           3         2         1       2  \n",
       "2           3         1         1       2  \n",
       "3           3         7         1       2  \n",
       "4           3         1         1       2  \n",
       "..        ...       ...       ...     ...  \n",
       "694         1         1         1       2  \n",
       "695         1         1         1       2  \n",
       "696         8        10         2       4  \n",
       "697        10         6         1       4  \n",
       "698        10         4         1       4  \n",
       "\n",
       "[699 rows x 11 columns]"
      ]
     },
     "metadata": {},
     "output_type": "display_data"
    },
    {
     "data": {
      "text/html": [
       "<div>\n",
       "<style scoped>\n",
       "    .dataframe tbody tr th:only-of-type {\n",
       "        vertical-align: middle;\n",
       "    }\n",
       "\n",
       "    .dataframe tbody tr th {\n",
       "        vertical-align: top;\n",
       "    }\n",
       "\n",
       "    .dataframe thead th {\n",
       "        text-align: right;\n",
       "    }\n",
       "</style>\n",
       "<table border=\"1\" class=\"dataframe\">\n",
       "  <thead>\n",
       "    <tr style=\"text-align: right;\">\n",
       "      <th></th>\n",
       "      <th>Feature0</th>\n",
       "      <th>Feature1</th>\n",
       "      <th>Feature2</th>\n",
       "      <th>Feature3</th>\n",
       "      <th>Feature4</th>\n",
       "      <th>Feature5</th>\n",
       "      <th>Feature6</th>\n",
       "      <th>Feature7</th>\n",
       "      <th>Feature8</th>\n",
       "      <th>Feature9</th>\n",
       "      <th>Target</th>\n",
       "    </tr>\n",
       "  </thead>\n",
       "  <tbody>\n",
       "    <tr>\n",
       "      <th>count</th>\n",
       "      <td>6.990000e+02</td>\n",
       "      <td>699.000000</td>\n",
       "      <td>699.000000</td>\n",
       "      <td>699.000000</td>\n",
       "      <td>699.000000</td>\n",
       "      <td>699.000000</td>\n",
       "      <td>683.000000</td>\n",
       "      <td>699.000000</td>\n",
       "      <td>699.000000</td>\n",
       "      <td>699.000000</td>\n",
       "      <td>699.000000</td>\n",
       "    </tr>\n",
       "    <tr>\n",
       "      <th>mean</th>\n",
       "      <td>1.071704e+06</td>\n",
       "      <td>4.417740</td>\n",
       "      <td>3.134478</td>\n",
       "      <td>3.207439</td>\n",
       "      <td>2.806867</td>\n",
       "      <td>3.216023</td>\n",
       "      <td>3.544656</td>\n",
       "      <td>3.437768</td>\n",
       "      <td>2.866953</td>\n",
       "      <td>1.589413</td>\n",
       "      <td>2.689557</td>\n",
       "    </tr>\n",
       "    <tr>\n",
       "      <th>std</th>\n",
       "      <td>6.170957e+05</td>\n",
       "      <td>2.815741</td>\n",
       "      <td>3.051459</td>\n",
       "      <td>2.971913</td>\n",
       "      <td>2.855379</td>\n",
       "      <td>2.214300</td>\n",
       "      <td>3.643857</td>\n",
       "      <td>2.438364</td>\n",
       "      <td>3.053634</td>\n",
       "      <td>1.715078</td>\n",
       "      <td>0.951273</td>\n",
       "    </tr>\n",
       "    <tr>\n",
       "      <th>min</th>\n",
       "      <td>6.163400e+04</td>\n",
       "      <td>1.000000</td>\n",
       "      <td>1.000000</td>\n",
       "      <td>1.000000</td>\n",
       "      <td>1.000000</td>\n",
       "      <td>1.000000</td>\n",
       "      <td>1.000000</td>\n",
       "      <td>1.000000</td>\n",
       "      <td>1.000000</td>\n",
       "      <td>1.000000</td>\n",
       "      <td>2.000000</td>\n",
       "    </tr>\n",
       "    <tr>\n",
       "      <th>25%</th>\n",
       "      <td>8.706885e+05</td>\n",
       "      <td>2.000000</td>\n",
       "      <td>1.000000</td>\n",
       "      <td>1.000000</td>\n",
       "      <td>1.000000</td>\n",
       "      <td>2.000000</td>\n",
       "      <td>1.000000</td>\n",
       "      <td>2.000000</td>\n",
       "      <td>1.000000</td>\n",
       "      <td>1.000000</td>\n",
       "      <td>2.000000</td>\n",
       "    </tr>\n",
       "    <tr>\n",
       "      <th>50%</th>\n",
       "      <td>1.171710e+06</td>\n",
       "      <td>4.000000</td>\n",
       "      <td>1.000000</td>\n",
       "      <td>1.000000</td>\n",
       "      <td>1.000000</td>\n",
       "      <td>2.000000</td>\n",
       "      <td>1.000000</td>\n",
       "      <td>3.000000</td>\n",
       "      <td>1.000000</td>\n",
       "      <td>1.000000</td>\n",
       "      <td>2.000000</td>\n",
       "    </tr>\n",
       "    <tr>\n",
       "      <th>75%</th>\n",
       "      <td>1.238298e+06</td>\n",
       "      <td>6.000000</td>\n",
       "      <td>5.000000</td>\n",
       "      <td>5.000000</td>\n",
       "      <td>4.000000</td>\n",
       "      <td>4.000000</td>\n",
       "      <td>6.000000</td>\n",
       "      <td>5.000000</td>\n",
       "      <td>4.000000</td>\n",
       "      <td>1.000000</td>\n",
       "      <td>4.000000</td>\n",
       "    </tr>\n",
       "    <tr>\n",
       "      <th>max</th>\n",
       "      <td>1.345435e+07</td>\n",
       "      <td>10.000000</td>\n",
       "      <td>10.000000</td>\n",
       "      <td>10.000000</td>\n",
       "      <td>10.000000</td>\n",
       "      <td>10.000000</td>\n",
       "      <td>10.000000</td>\n",
       "      <td>10.000000</td>\n",
       "      <td>10.000000</td>\n",
       "      <td>10.000000</td>\n",
       "      <td>4.000000</td>\n",
       "    </tr>\n",
       "  </tbody>\n",
       "</table>\n",
       "</div>"
      ],
      "text/plain": [
       "           Feature0    Feature1    Feature2    Feature3    Feature4  \\\n",
       "count  6.990000e+02  699.000000  699.000000  699.000000  699.000000   \n",
       "mean   1.071704e+06    4.417740    3.134478    3.207439    2.806867   \n",
       "std    6.170957e+05    2.815741    3.051459    2.971913    2.855379   \n",
       "min    6.163400e+04    1.000000    1.000000    1.000000    1.000000   \n",
       "25%    8.706885e+05    2.000000    1.000000    1.000000    1.000000   \n",
       "50%    1.171710e+06    4.000000    1.000000    1.000000    1.000000   \n",
       "75%    1.238298e+06    6.000000    5.000000    5.000000    4.000000   \n",
       "max    1.345435e+07   10.000000   10.000000   10.000000   10.000000   \n",
       "\n",
       "         Feature5    Feature6    Feature7    Feature8    Feature9      Target  \n",
       "count  699.000000  683.000000  699.000000  699.000000  699.000000  699.000000  \n",
       "mean     3.216023    3.544656    3.437768    2.866953    1.589413    2.689557  \n",
       "std      2.214300    3.643857    2.438364    3.053634    1.715078    0.951273  \n",
       "min      1.000000    1.000000    1.000000    1.000000    1.000000    2.000000  \n",
       "25%      2.000000    1.000000    2.000000    1.000000    1.000000    2.000000  \n",
       "50%      2.000000    1.000000    3.000000    1.000000    1.000000    2.000000  \n",
       "75%      4.000000    6.000000    5.000000    4.000000    1.000000    4.000000  \n",
       "max     10.000000   10.000000   10.000000   10.000000   10.000000    4.000000  "
      ]
     },
     "metadata": {},
     "output_type": "display_data"
    }
   ],
   "source": [
    "from sklearn.model_selection import train_test_split\n",
    "import pandas as pd\n",
    "import numpy as np\n",
    "\n",
    "df = pd.read_csv(\"breast-cancer-wisconsin.data\", sep=\",\", names=[\"Feature0\",\"Feature1\",\"Feature2\",\"Feature3\",\"Feature4\",\"Feature5\",\"Feature6\",\"Feature7\",\"Feature8\",\"Feature9\",\"Target\"], na_values=\"?\")\n",
    "display(df)\n",
    "display(df.describe())"
   ]
  },
  {
   "cell_type": "code",
   "execution_count": 51,
   "metadata": {},
   "outputs": [
    {
     "data": {
      "text/plain": [
       "Feature0      int64\n",
       "Feature1      int64\n",
       "Feature2      int64\n",
       "Feature3      int64\n",
       "Feature4      int64\n",
       "Feature5      int64\n",
       "Feature6    float64\n",
       "Feature7      int64\n",
       "Feature8      int64\n",
       "Feature9      int64\n",
       "Target        int64\n",
       "dtype: object"
      ]
     },
     "metadata": {},
     "output_type": "display_data"
    },
    {
     "data": {
      "text/plain": [
       "Feature0     0\n",
       "Feature1     0\n",
       "Feature2     0\n",
       "Feature3     0\n",
       "Feature4     0\n",
       "Feature5     0\n",
       "Feature6    16\n",
       "Feature7     0\n",
       "Feature8     0\n",
       "Feature9     0\n",
       "Target       0\n",
       "dtype: int64"
      ]
     },
     "metadata": {},
     "output_type": "display_data"
    }
   ],
   "source": [
    "display(df.dtypes)\n",
    "display(df.isna().sum())"
   ]
  },
  {
   "cell_type": "markdown",
   "metadata": {},
   "source": [
    "A coluna nomeada como \"Feature6\" está descrita como __string__, possivelmente indicando valores desconhecidos.  \n",
    "Também é notável que a última coluna se refere ao atributo alvo de diagnóstico, pois seu valores são eaxatamente 2 ou 4, o que expressa sua natureza binária.\n",
    "\n",
    "Dessa forma, vamos realizar algumas operações de pré-processamento.\n",
    "\n",
    "__OBS:__ as nomeações foram arbitrárias devido à falta de informação dos cabeçalhos."
   ]
  },
  {
   "cell_type": "markdown",
   "metadata": {},
   "source": [
    "__1. Remover coluna de indentificadores__\n",
    "\n",
    "A coluna \"Feature0\" refere-se à identificação dos pacientes, e portanto não é relevante para o estudo."
   ]
  },
  {
   "cell_type": "code",
   "execution_count": 52,
   "metadata": {},
   "outputs": [],
   "source": [
    "df.drop(columns=[\"Feature0\"], inplace=True, axis=1)"
   ]
  },
  {
   "cell_type": "markdown",
   "metadata": {},
   "source": [
    "__2. Padronizar os valores-alvo__\n",
    "\n",
    "Vamos utilizar os valores padrão para classes binárias, 0 e 1, em detrimento aos valores atualmente aplicados, 2 e 4.  \n",
    "(Como o valor __2__ aparece em maioria, é plausível assumir que represente resultados _benígnos_, embora isso não seja relevante.)"
   ]
  },
  {
   "cell_type": "code",
   "execution_count": 53,
   "metadata": {},
   "outputs": [],
   "source": [
    "df[\"Target\"] = df[\"Target\"].map({2: 1, 4: 0})"
   ]
  },
  {
   "cell_type": "markdown",
   "metadata": {
    "id": "zzAYRQWCkyrZ"
   },
   "source": [
    "### **Questão 2**\n",
    "Verificar se existem dados nulos."
   ]
  },
  {
   "cell_type": "markdown",
   "metadata": {},
   "source": [
    "__Substituir valores desconhecidos em \"Feature6\"__\n",
    "\n",
    "Nessa operação vamos interporlar os valores desconhecidos com os vizinhos próximos através do método _interpolation_."
   ]
  },
  {
   "cell_type": "code",
   "execution_count": 54,
   "metadata": {},
   "outputs": [],
   "source": [
    "from sklearn.impute import KNNImputer\n",
    "\n",
    "col_feat6 = df[['Feature6']]\n",
    "knn_imputer = KNNImputer(n_neighbors=3)\n",
    "\n",
    "col_feat6_imputed = knn_imputer.fit_transform(col_feat6)\n",
    "df['Feature6'] = col_feat6_imputed"
   ]
  },
  {
   "cell_type": "markdown",
   "metadata": {
    "id": "cLY2zEeilRFU"
   },
   "source": [
    "### **Questão 3**\n",
    "Verifique se existem outliers e  quais atributos possuem outliers.\n",
    "Crie um novo conjunto de dados, eliminando os outliers e considere esse novo conjunto para resolver os itens seguintes."
   ]
  },
  {
   "cell_type": "code",
   "execution_count": 55,
   "metadata": {},
   "outputs": [
    {
     "data": {
      "text/plain": [
       "<Axes: xlabel='variable', ylabel='value'>"
      ]
     },
     "execution_count": 55,
     "metadata": {},
     "output_type": "execute_result"
    },
    {
     "data": {
      "image/png": "[encoded data removed]",
      "text/plain": [
       "<Figure size 1500x1000 with 1 Axes>"
      ]
     },
     "metadata": {},
     "output_type": "display_data"
    }
   ],
   "source": [
    "import seaborn as sns\n",
    "\n",
    "df_no_target = df.iloc[:, 0:9]\n",
    "sns.boxplot(x=\"variable\", y=\"value\", data=pd.melt(df_no_target))"
   ]
  },
  {
   "cell_type": "markdown",
   "metadata": {},
   "source": [
    "Apesar do plot feio (preguiça de arrumar), podemos verificar que alguns atributos apresentam _outliers_. Os maiores agressores são: __Feature4, Feature5, Feature7, Feature8, Feature9__, sendo este último o atributo com valores mais discrepantes.\n",
    "\n",
    "Podemos gerar uma função simples para remover esses valores."
   ]
  },
  {
   "cell_type": "code",
   "execution_count": 56,
   "metadata": {},
   "outputs": [
    {
     "name": "stdout",
     "output_type": "stream",
     "text": [
      "O dataframe foi reduzido para (699, 10)\n"
     ]
    }
   ],
   "source": [
    "print(\"O dataframe foi reduzido para\", df.shape)"
   ]
  },
  {
   "cell_type": "code",
   "execution_count": 57,
   "metadata": {},
   "outputs": [],
   "source": [
    "def remove_outliers(df: pd.DataFrame, col_name: str) -> pd.DataFrame:\n",
    "    \"\"\"\n",
    "    Essa função recebe uma column do dataframe, verifica se a coluna é númerica.\n",
    "    Em caso positivo corta os outliers (extremos minimos e máximos), transformando-os em NaN.\n",
    "    Tudo foi feito à mão porque eu jamais vou depositar minhas confianças \n",
    "    em qualquer built-in do Python/Pandas/libs (eu também não tenho amor proprio).\n",
    "    \"\"\"\n",
    "    if not pd.api.types.is_numeric_dtype(df[col_name]):\n",
    "        raise ValueError(\"A coluna não é númerica. Como você espera remover outlier de algo não-númerico? Bobão!\")\n",
    "\n",
    "    lower_bound = df[col_name].mean() - 3 * df[col_name].std()\n",
    "    upper_bound = df[col_name].mean() + 3 * df[col_name].std()\n",
    "\n",
    "    df = df[(df[col_name] >= lower_bound) & (df[col_name] <= upper_bound)]\n",
    "\n",
    "    return df"
   ]
  },
  {
   "cell_type": "code",
   "execution_count": 58,
   "metadata": {},
   "outputs": [],
   "source": [
    "\"\"\"\n",
    "Neste snippet, as colunas passam por avaliação de outlier, e, os valores extremos, agora NaN\n",
    "são removidos através do dropna.\n",
    "\n",
    "É feio? Talvez!\n",
    "É sagaz? Talvez!\n",
    "Por que eu fiz isso? Só Rá pra dizer!\n",
    "\"\"\"\n",
    "df_capped_outliers = df.copy()\n",
    "\n",
    "for col_name in df.columns:\n",
    "    if col_name != \"Target\":\n",
    "        df_capped_outliers = remove_outliers(df=df_capped_outliers.copy(), col_name=col_name)\n",
    "\n",
    "df_capped_outliers.dropna(inplace=True)"
   ]
  },
  {
   "cell_type": "code",
   "execution_count": 59,
   "metadata": {},
   "outputs": [
    {
     "name": "stdout",
     "output_type": "stream",
     "text": [
      "O dataframe foi reduzido para (645, 10)\n"
     ]
    }
   ],
   "source": [
    "print(\"O dataframe foi reduzido para\", df_capped_outliers.shape)"
   ]
  },
  {
   "cell_type": "code",
   "execution_count": 60,
   "metadata": {},
   "outputs": [
    {
     "data": {
      "text/html": [
       "<div>\n",
       "<style scoped>\n",
       "    .dataframe tbody tr th:only-of-type {\n",
       "        vertical-align: middle;\n",
       "    }\n",
       "\n",
       "    .dataframe tbody tr th {\n",
       "        vertical-align: top;\n",
       "    }\n",
       "\n",
       "    .dataframe thead th {\n",
       "        text-align: right;\n",
       "    }\n",
       "</style>\n",
       "<table border=\"1\" class=\"dataframe\">\n",
       "  <thead>\n",
       "    <tr style=\"text-align: right;\">\n",
       "      <th></th>\n",
       "      <th>Feature1</th>\n",
       "      <th>Feature2</th>\n",
       "      <th>Feature3</th>\n",
       "      <th>Feature4</th>\n",
       "      <th>Feature5</th>\n",
       "      <th>Feature6</th>\n",
       "      <th>Feature7</th>\n",
       "      <th>Feature8</th>\n",
       "      <th>Feature9</th>\n",
       "      <th>Target</th>\n",
       "    </tr>\n",
       "  </thead>\n",
       "  <tbody>\n",
       "    <tr>\n",
       "      <th>count</th>\n",
       "      <td>645.000000</td>\n",
       "      <td>645.000000</td>\n",
       "      <td>645.000000</td>\n",
       "      <td>645.000000</td>\n",
       "      <td>645.000000</td>\n",
       "      <td>645.000000</td>\n",
       "      <td>645.000000</td>\n",
       "      <td>645.000000</td>\n",
       "      <td>645.000000</td>\n",
       "      <td>645.000000</td>\n",
       "    </tr>\n",
       "    <tr>\n",
       "      <th>mean</th>\n",
       "      <td>4.162791</td>\n",
       "      <td>2.753488</td>\n",
       "      <td>2.844961</td>\n",
       "      <td>2.528682</td>\n",
       "      <td>2.815504</td>\n",
       "      <td>3.229015</td>\n",
       "      <td>3.206202</td>\n",
       "      <td>2.587597</td>\n",
       "      <td>1.229457</td>\n",
       "      <td>0.705426</td>\n",
       "    </tr>\n",
       "    <tr>\n",
       "      <th>std</th>\n",
       "      <td>2.683023</td>\n",
       "      <td>2.749874</td>\n",
       "      <td>2.673337</td>\n",
       "      <td>2.607538</td>\n",
       "      <td>1.619488</td>\n",
       "      <td>3.434371</td>\n",
       "      <td>2.262843</td>\n",
       "      <td>2.835637</td>\n",
       "      <td>0.687104</td>\n",
       "      <td>0.456205</td>\n",
       "    </tr>\n",
       "    <tr>\n",
       "      <th>min</th>\n",
       "      <td>1.000000</td>\n",
       "      <td>1.000000</td>\n",
       "      <td>1.000000</td>\n",
       "      <td>1.000000</td>\n",
       "      <td>1.000000</td>\n",
       "      <td>1.000000</td>\n",
       "      <td>1.000000</td>\n",
       "      <td>1.000000</td>\n",
       "      <td>1.000000</td>\n",
       "      <td>0.000000</td>\n",
       "    </tr>\n",
       "    <tr>\n",
       "      <th>25%</th>\n",
       "      <td>2.000000</td>\n",
       "      <td>1.000000</td>\n",
       "      <td>1.000000</td>\n",
       "      <td>1.000000</td>\n",
       "      <td>2.000000</td>\n",
       "      <td>1.000000</td>\n",
       "      <td>2.000000</td>\n",
       "      <td>1.000000</td>\n",
       "      <td>1.000000</td>\n",
       "      <td>0.000000</td>\n",
       "    </tr>\n",
       "    <tr>\n",
       "      <th>50%</th>\n",
       "      <td>4.000000</td>\n",
       "      <td>1.000000</td>\n",
       "      <td>1.000000</td>\n",
       "      <td>1.000000</td>\n",
       "      <td>2.000000</td>\n",
       "      <td>1.000000</td>\n",
       "      <td>3.000000</td>\n",
       "      <td>1.000000</td>\n",
       "      <td>1.000000</td>\n",
       "      <td>1.000000</td>\n",
       "    </tr>\n",
       "    <tr>\n",
       "      <th>75%</th>\n",
       "      <td>5.000000</td>\n",
       "      <td>4.000000</td>\n",
       "      <td>4.000000</td>\n",
       "      <td>3.000000</td>\n",
       "      <td>3.000000</td>\n",
       "      <td>5.000000</td>\n",
       "      <td>4.000000</td>\n",
       "      <td>3.000000</td>\n",
       "      <td>1.000000</td>\n",
       "      <td>1.000000</td>\n",
       "    </tr>\n",
       "    <tr>\n",
       "      <th>max</th>\n",
       "      <td>10.000000</td>\n",
       "      <td>10.000000</td>\n",
       "      <td>10.000000</td>\n",
       "      <td>10.000000</td>\n",
       "      <td>9.000000</td>\n",
       "      <td>10.000000</td>\n",
       "      <td>10.000000</td>\n",
       "      <td>10.000000</td>\n",
       "      <td>5.000000</td>\n",
       "      <td>1.000000</td>\n",
       "    </tr>\n",
       "  </tbody>\n",
       "</table>\n",
       "</div>"
      ],
      "text/plain": [
       "         Feature1    Feature2    Feature3    Feature4    Feature5    Feature6  \\\n",
       "count  645.000000  645.000000  645.000000  645.000000  645.000000  645.000000   \n",
       "mean     4.162791    2.753488    2.844961    2.528682    2.815504    3.229015   \n",
       "std      2.683023    2.749874    2.673337    2.607538    1.619488    3.434371   \n",
       "min      1.000000    1.000000    1.000000    1.000000    1.000000    1.000000   \n",
       "25%      2.000000    1.000000    1.000000    1.000000    2.000000    1.000000   \n",
       "50%      4.000000    1.000000    1.000000    1.000000    2.000000    1.000000   \n",
       "75%      5.000000    4.000000    4.000000    3.000000    3.000000    5.000000   \n",
       "max     10.000000   10.000000   10.000000   10.000000    9.000000   10.000000   \n",
       "\n",
       "         Feature7    Feature8    Feature9      Target  \n",
       "count  645.000000  645.000000  645.000000  645.000000  \n",
       "mean     3.206202    2.587597    1.229457    0.705426  \n",
       "std      2.262843    2.835637    0.687104    0.456205  \n",
       "min      1.000000    1.000000    1.000000    0.000000  \n",
       "25%      2.000000    1.000000    1.000000    0.000000  \n",
       "50%      3.000000    1.000000    1.000000    1.000000  \n",
       "75%      4.000000    3.000000    1.000000    1.000000  \n",
       "max     10.000000   10.000000    5.000000    1.000000  "
      ]
     },
     "metadata": {},
     "output_type": "display_data"
    }
   ],
   "source": [
    "display(df_capped_outliers.describe())"
   ]
  },
  {
   "cell_type": "markdown",
   "metadata": {},
   "source": [
    "### **Seção extra - Train/Test split**\n",
    "\n",
    "Aqui definimos as _samples_ de treino (80%) e teste (20%) que serão utilizadas."
   ]
  },
  {
   "cell_type": "code",
   "execution_count": 61,
   "metadata": {},
   "outputs": [],
   "source": [
    "from sklearn.model_selection import train_test_split\n",
    "from sklearn.metrics import mean_squared_error\n",
    "\n",
    "X = df_capped_outliers.drop(columns=[\"Target\"])\n",
    "y = df_capped_outliers[\"Target\"]\n",
    "\n",
    "X_train, X_test, y_train, y_test = train_test_split(X, y, test_size=0.2, random_state=42)"
   ]
  },
  {
   "cell_type": "markdown",
   "metadata": {
    "id": "UJx8E9zYHT7D"
   },
   "source": [
    "### **Questão 4**\n",
    "Treine um modelo de regressão com o método DT, no conjunto de treino e calcule a acurácia, precisão, recall e o F1-score no conjunto de teste."
   ]
  },
  {
   "cell_type": "code",
   "execution_count": 62,
   "metadata": {},
   "outputs": [],
   "source": [
    "from sklearn.tree import DecisionTreeClassifier # Import Decision Tree Classifier\n",
    "from sklearn.model_selection import train_test_split # Import train_test_split function\n",
    "from sklearn import metrics\n",
    "\n",
    "clf = DecisionTreeClassifier()\n",
    "clf = clf.fit(X_train,y_train)\n",
    "y_pred = clf.predict(X_test)"
   ]
  },
  {
   "cell_type": "code",
   "execution_count": 63,
   "metadata": {},
   "outputs": [
    {
     "name": "stdout",
     "output_type": "stream",
     "text": [
      "Acuracia: 0.9147286821705426\n",
      "Precisão: 0.9213483146067416\n",
      "F1: 0.9371428571428573\n",
      "MSE 0.08527131782945736\n"
     ]
    }
   ],
   "source": [
    "print(\"Acuracia:\",metrics.accuracy_score(y_test, y_pred))\n",
    "print(\"Precisão:\",metrics.precision_score(y_test, y_pred))\n",
    "print(\"F1:\",metrics.f1_score(y_test, y_pred))\n",
    "print(\"MSE\", mean_squared_error(y_test, y_pred))"
   ]
  },
  {
   "cell_type": "markdown",
   "metadata": {
    "id": "VP5t-H30HutV"
   },
   "source": [
    "### **Questão 5**\n",
    "Treine um modelo de classificação com o **método RF**, no conjunto de treino  e calcule a acurácia, precisão, recall e o F1-score no conjunto de teste. Determine usando o modelo RF os atributos mais relevantes."
   ]
  },
  {
   "cell_type": "code",
   "execution_count": 64,
   "metadata": {},
   "outputs": [],
   "source": [
    "from sklearn.ensemble import RandomForestClassifier\n",
    "\n",
    "rf = RandomForestClassifier(n_estimators=100, random_state=42)\n",
    "rf.fit(X_train, y_train)\n",
    "y_pred = rf.predict(X_test)"
   ]
  },
  {
   "cell_type": "code",
   "execution_count": 65,
   "metadata": {},
   "outputs": [
    {
     "name": "stdout",
     "output_type": "stream",
     "text": [
      "Acuracia: 0.9689922480620154\n",
      "Precisão: 0.9767441860465116\n",
      "F1: 0.9767441860465116\n",
      "MSE 0.031007751937984496\n"
     ]
    }
   ],
   "source": [
    "print(\"Acuracia:\",metrics.accuracy_score(y_test, y_pred))\n",
    "print(\"Precisão:\",metrics.precision_score(y_test, y_pred))\n",
    "print(\"F1:\",metrics.f1_score(y_test, y_pred))\n",
    "print(\"MSE\", mean_squared_error(y_test, y_pred))"
   ]
  },
  {
   "cell_type": "markdown",
   "metadata": {
    "id": "JJ5PK5QYTR4B"
   },
   "source": [
    "### **Questão 6**\n",
    "\n",
    "Treine um modelo de classificação com o método XGBoost, no conjunto de treino  e calcule a acurácia, precisão, recall e o F1-score no conjunto de teste.\n",
    "\n",
    "- Dica: Utilize `xgboost.XGBRegressor`"
   ]
  },
  {
   "cell_type": "code",
   "execution_count": 66,
   "metadata": {},
   "outputs": [],
   "source": [
    "import xgboost as xgb\n",
    "\n",
    "xgr = xgb.XGBClassifier()\n",
    "xgr.fit(X_train, y_train)\n",
    "y_pred = xgr.predict(X_test)\n",
    "\n",
    "xgb_importances = xgr.feature_importances_\n"
   ]
  },
  {
   "cell_type": "code",
   "execution_count": 67,
   "metadata": {},
   "outputs": [
    {
     "name": "stdout",
     "output_type": "stream",
     "text": [
      "Acuracia: 0.9612403100775194\n",
      "Precisão: 0.9764705882352941\n",
      "F1: 0.9707602339181286\n",
      "MSE 0.03875968992248062\n"
     ]
    }
   ],
   "source": [
    "print(\"Acuracia:\",metrics.accuracy_score(y_test, y_pred))\n",
    "print(\"Precisão:\",metrics.precision_score(y_test, y_pred))\n",
    "print(\"F1:\",metrics.f1_score(y_test, y_pred))\n",
    "print(\"MSE\", mean_squared_error(y_test, y_pred))"
   ]
  },
  {
   "cell_type": "markdown",
   "metadata": {
    "id": "J16NUNU14ru7"
   },
   "source": [
    "### **Questão 7**\n",
    "\n",
    "Compare seus resultados com os modelos dos exercícios anteriores.\n",
    "\n",
    "- Dica: Cuidado para usar o mesmo train/test split em todos os modelos para que a comparação faça sentido. Para isso você pode utilizar o mesmo `random_state` na função `train_test_split` nos dois métodos.\n",
    "\n",
    "\n"
   ]
  },
  {
   "cell_type": "code",
   "execution_count": 68,
   "metadata": {},
   "outputs": [
    {
     "data": {
      "image/png": "[encoded data removed]",
      "text/plain": [
       "<Figure size 1500x1000 with 1 Axes>"
      ]
     },
     "metadata": {},
     "output_type": "display_data"
    }
   ],
   "source": [
    "# modelos exerício 3:\n",
    "from sklearn.neural_network import MLPClassifier\n",
    "from sklearn.linear_model import Perceptron\n",
    "from sklearn.tree import DecisionTreeClassifier\n",
    "from sklearn.neighbors import KNeighborsClassifier\n",
    "from sklearn.model_selection import train_test_split\n",
    "from sklearn.metrics import RocCurveDisplay, accuracy_score, precision_score, f1_score, mean_squared_error, roc_auc_score\n",
    "import matplotlib.pyplot as plt\n",
    "import numpy as np\n",
    "\n",
    "classificadores = {\n",
    "    \"Perceptron\": {\"modelo\": Perceptron(), \"scores\": []},\n",
    "    \"Multi-Layer Perceptron (15,)\": {\"modelo\": MLPClassifier(random_state=1, hidden_layer_sizes=(15,), max_iter=2000), \"scores\": []},\n",
    "    \"Árvore Decisão Critério Gini\": {\"modelo\": DecisionTreeClassifier(criterion='gini'), \"scores\": []},\n",
    "    \"KNN k=5\": {\"modelo\": KNeighborsClassifier(n_neighbors=5), \"scores\": []}\n",
    "}\n",
    "\n",
    "X_train, X_test, y_train, y_test = train_test_split(X, y, test_size=0.2, stratify=y, random_state=42)\n",
    "\n",
    "plt.rcParams['figure.figsize'] = [15, 10]\n",
    "fig, ax = plt.subplots()\n",
    "\n",
    "for classificador_name, classificador_info in classificadores.items():\n",
    "    clf = classificador_info[\"modelo\"]\n",
    "    \n",
    "    clf.fit(X_train, y_train)\n",
    "    \n",
    "    y_pred = clf.predict(X_test)\n",
    "    \n",
    "    # Para roc_auc_score e RocCurveDisplay, precisamos das probabilidades ou da função de decisão\n",
    "    if hasattr(clf, \"predict_proba\"):\n",
    "        y_pred_proba = clf.predict_proba(X_test)[:, 1]\n",
    "    else:\n",
    "        y_pred_proba = clf.decision_function(X_test)\n",
    "    \n",
    "    # Cálculos das métricas\n",
    "    acc = accuracy_score(y_test, y_pred)\n",
    "    prec = precision_score(y_test, y_pred)\n",
    "    f1 = f1_score(y_test, y_pred)\n",
    "    mse = mean_squared_error(y_test, y_pred)\n",
    "    roc_auc = roc_auc_score(y_test, y_pred_proba)\n",
    "    \n",
    "    # Salvando as métricas\n",
    "    classificador_info[\"scores\"].append({\n",
    "        \"accuracy\": acc,\n",
    "        \"precision\": prec,\n",
    "        \"f1_score\": f1,\n",
    "        \"mean_squared_error\": mse,\n",
    "        \"roc_auc\": roc_auc\n",
    "    })\n",
    "    \n",
    "    # Plotando a curva ROC\n",
    "    RocCurveDisplay.from_predictions(y_test, y_pred_proba, ax=ax, name=classificador_name)\n",
    "\n",
    "plt.title('Curva ROC para todos os classificadores')\n",
    "plt.xlabel('Taxa de Falso Positivo')\n",
    "plt.ylabel('Taxa de Verdadeiro Positivo')\n",
    "plt.legend(loc='lower right')\n",
    "plt.show()\n"
   ]
  },
  {
   "cell_type": "code",
   "execution_count": 69,
   "metadata": {},
   "outputs": [
    {
     "name": "stdout",
     "output_type": "stream",
     "text": [
      "Classificador: Perceptron\n",
      "  Accuracy: 0.9457364341085271\n",
      "  Precision: 0.9883720930232558\n",
      "  F1 Score: 0.96045197740113\n",
      "  Mean Squared Error: 0.05426356589147287\n",
      "  ROC AUC: 0.973105841526894\n",
      "\n",
      "Classificador: Multi-Layer Perceptron (15,)\n",
      "  Accuracy: 0.9534883720930233\n",
      "  Precision: 0.9885057471264368\n",
      "  F1 Score: 0.9662921348314606\n",
      "  Mean Squared Error: 0.046511627906976744\n",
      "  ROC AUC: 0.984384037015616\n",
      "\n",
      "Classificador: Árvore Decisão Critério Gini\n",
      "  Accuracy: 0.9224806201550387\n",
      "  Precision: 0.9655172413793104\n",
      "  F1 Score: 0.9438202247191013\n",
      "  Mean Squared Error: 0.07751937984496124\n",
      "  ROC AUC: 0.9220647773279352\n",
      "\n",
      "Classificador: KNN k=5\n",
      "  Accuracy: 0.9457364341085271\n",
      "  Precision: 0.9772727272727273\n",
      "  F1 Score: 0.9608938547486033\n",
      "  Mean Squared Error: 0.05426356589147287\n",
      "  ROC AUC: 0.9762868710237131\n",
      "\n"
     ]
    }
   ],
   "source": [
    "# Exibindo as métricas\n",
    "for classificador_name, classificador_info in classificadores.items():\n",
    "    print(f\"Classificador: {classificador_name}\")\n",
    "    for score in classificador_info[\"scores\"]:\n",
    "        print(f\"  Accuracy: {score['accuracy']}\")\n",
    "        print(f\"  Precision: {score['precision']}\")\n",
    "        print(f\"  F1 Score: {score['f1_score']}\")\n",
    "        print(f\"  Mean Squared Error: {score['mean_squared_error']}\")\n",
    "        print(f\"  ROC AUC: {score['roc_auc']}\")\n",
    "    print()"
   ]
  },
  {
   "cell_type": "code",
   "execution_count": 70,
   "metadata": {},
   "outputs": [
    {
     "name": "stdout",
     "output_type": "stream",
     "text": [
      "Binary Cross-Entropy Loss: 0.2511088679172289\n",
      "Classificador: MLP camada escondida (10,)\n",
      "  Accuracy: 0.9643028846153847\n",
      "  Precision: 0.9843807511250446\n",
      "  F1 Score: 0.9743029796509319\n",
      "  Mean Squared Error: 0.03569711538461538\n",
      "\n",
      "Classificador: MLP camadas escondidas (10, 10) ReLU\n",
      "  Accuracy: 0.9642548076923078\n",
      "  Precision: 0.9822956307258632\n",
      "  F1 Score: 0.9743999950430743\n",
      "  Mean Squared Error: 0.03574519230769231\n",
      "\n",
      "Classificador: MLP camadas escondidas (20, 10) Tanh\n",
      "  Accuracy: 0.9658894230769232\n",
      "  Precision: 0.9824472990777338\n",
      "  F1 Score: 0.9755993574783917\n",
      "  Mean Squared Error: 0.034110576923076924\n",
      "\n"
     ]
    }
   ],
   "source": [
    "# modelos exercício 2:\n",
    "from sklearn.neural_network import MLPClassifier\n",
    "from sklearn.metrics import log_loss, make_scorer, precision_score, f1_score, mean_squared_error\n",
    "from sklearn.preprocessing import StandardScaler\n",
    "from sklearn.model_selection import StratifiedKFold, cross_val_score, cross_validate\n",
    "import numpy as np\n",
    "\n",
    "X_train, X_test, y_train, y_test = train_test_split(X, y, test_size=0.2, stratify=y, random_state=42)\n",
    "\n",
    "mlp = MLPClassifier(activation='relu', hidden_layer_sizes=(10, 10), learning_rate_init=1e-2, solver='sgd', max_iter=800, random_state=42)\n",
    "mlp.fit(X_train, y_train)\n",
    "\n",
    "y_pred_proba = mlp.predict_proba(X_test)\n",
    "binary_cross_entropy_loss = log_loss(y_test, y_pred_proba)\n",
    "\n",
    "print(\"Binary Cross-Entropy Loss:\", binary_cross_entropy_loss)\n",
    "\n",
    "experiments = {\n",
    "    \"MLP camada escondida (10,)\": MLPClassifier(hidden_layer_sizes=(10,), max_iter=800, random_state=42),\n",
    "    \"MLP camadas escondidas (10, 10) ReLU\": MLPClassifier(hidden_layer_sizes=(10, 10), activation='relu', max_iter=800, random_state=42),\n",
    "    \"MLP camadas escondidas (20, 10) Tanh\": MLPClassifier(hidden_layer_sizes=(20, 10), activation='tanh', max_iter=800, random_state=42)\n",
    "}\n",
    "\n",
    "def evaluate_model(model, X, y):\n",
    "    \"\"\"\n",
    "    Evaluates the model using 10-fold stratified cross-validation and returns the mean accuracy, precision, F1-score, and mean squared error.\n",
    "    \n",
    "    Parameters:\n",
    "        model: Classifier model to evaluate.\n",
    "        X: Input features.\n",
    "        y: Target labels.\n",
    "        \n",
    "    Returns:\n",
    "        scores: A dictionary with mean accuracy, precision, F1-score, and mean squared error.\n",
    "    \"\"\"\n",
    "    scaler = StandardScaler()\n",
    "    X_scaled = scaler.fit_transform(X)\n",
    "    \n",
    "    skf = StratifiedKFold(n_splits=10, shuffle=True, random_state=1234)\n",
    "    \n",
    "    scoring = {\n",
    "        'accuracy': 'accuracy',\n",
    "        'precision': make_scorer(precision_score),\n",
    "        'f1_score': make_scorer(f1_score),\n",
    "        'mse': make_scorer(mean_squared_error)\n",
    "    }\n",
    "    \n",
    "    scores = cross_validate(model, X_scaled, y, cv=skf, scoring=scoring)\n",
    "    \n",
    "    mean_scores = {\n",
    "        'accuracy': np.mean(scores['test_accuracy']),\n",
    "        'precision': np.mean(scores['test_precision']),\n",
    "        'f1_score': np.mean(scores['test_f1_score']),\n",
    "        'mean_squared_error': np.mean(scores['test_mse'])\n",
    "    }\n",
    "    \n",
    "    return mean_scores\n",
    "\n",
    "results = {}\n",
    "for name, model in experiments.items():\n",
    "    scores = evaluate_model(model, X, y)\n",
    "    results[name] = scores\n",
    "\n",
    "# Exibindo os resultados\n",
    "for name, scores in results.items():\n",
    "    print(f\"Classificador: {name}\")\n",
    "    print(f\"  Accuracy: {scores['accuracy']}\")\n",
    "    print(f\"  Precision: {scores['precision']}\")\n",
    "    print(f\"  F1 Score: {scores['f1_score']}\")\n",
    "    print(f\"  Mean Squared Error: {scores['mean_squared_error']}\")\n",
    "    print()"
   ]
  },
  {
   "cell_type": "markdown",
   "metadata": {
    "id": "M_SjANzd5gdQ"
   },
   "source": [
    "### **Questão 8**\n",
    "\n",
    "Verifique a importância de cada feature para o resultado final utilizando o melhor modelo. O que isso diz sobre o problema que estamos tentando resolver?"
   ]
  },
  {
   "cell_type": "markdown",
   "metadata": {},
   "source": [
    "R: Analisando todos os valores obtidos para as métricas de acurácia, precisão, F1-score, Mean Squared Error (MSE) e ROC AUC, devemos ter em mente que: \n",
    "1. Acurácia: A taxa de acertos do modelo.\n",
    "2. Precisão: A proporção de verdadeiros positivos sobre todos os resultados positivos preditos.\n",
    "3. F1-score: A média harmônica entre precisão e recall, equilibrando os dois.\n",
    "4. Mean Squared Error (MSE): A média dos quadrados dos erros (quanto menor, melhor).\n",
    "5. ROC AUC: A área sob a curva ROC, uma medida de quão bem o modelo distingue entre classes positivas e negativas (quanto mais ao canto superior esquerdo, melhor).\n",
    "\n",
    "Dessa forma, podemos considerar que os valores obtidos para as métricas utilizando **Random Forest** foram as melhores (embora MLP com camadas escondidas (20, 10) Tanh e MLP com camada escondida (10,) ou (10, 10) ReLU também tenham apresentado desempenhos muito bons):\n",
    "- Alta acurácia: 0.9690\n",
    "- Alta precisão: 0.9767\n",
    "- Excelente F1 Score: 0.9767}\n",
    "- Baixo MSE: 0.0310"
   ]
  },
  {
   "cell_type": "code",
   "execution_count": 71,
   "metadata": {},
   "outputs": [
    {
     "data": {
      "image/png": "[encoded data removed]",
      "text/plain": [
       "<Figure size 1000x600 with 1 Axes>"
      ]
     },
     "metadata": {},
     "output_type": "display_data"
    },
    {
     "name": "stdout",
     "output_type": "stream",
     "text": [
      "Features mais relevantes:\n",
      "    Feature  Relevancia\n",
      "1  Feature2    0.251578\n",
      "2  Feature3    0.206208\n",
      "5  Feature6    0.190025\n",
      "6  Feature7    0.111065\n",
      "7  Feature8    0.097646\n"
     ]
    }
   ],
   "source": [
    "import matplotlib.pyplot as plt\n",
    "\n",
    "feature_importances = rf.feature_importances_\n",
    "feature_importance_df = pd.DataFrame({'Feature': X_train.columns, 'Relevancia': feature_importances})\n",
    "feature_importance_df = feature_importance_df.sort_values(by='Relevancia', ascending=False)\n",
    "\n",
    "plt.figure(figsize=(10, 6))\n",
    "plt.barh(feature_importance_df['Feature'], feature_importance_df['Relevancia'])\n",
    "plt.xlabel('Relevancia')\n",
    "plt.ylabel('Feature')\n",
    "plt.title('Feature Importances')\n",
    "plt.show()\n",
    "\n",
    "print(\"Features mais relevantes:\")\n",
    "print(feature_importance_df.head())"
   ]
  },
  {
   "cell_type": "code",
   "execution_count": null,
   "metadata": {},
   "outputs": [],
   "source": []
  }
 ],
 "metadata": {
  "colab": {
   "provenance": []
  },
  "kernelspec": {
   "display_name": "Python 3 (ipykernel)",
   "language": "python",
   "name": "python3"
  },
  "language_info": {
   "codemirror_mode": {
    "name": "ipython",
    "version": 3
   },
   "file_extension": ".py",
   "mimetype": "text/x-python",
   "name": "python",
   "nbconvert_exporter": "python",
   "pygments_lexer": "ipython3",
   "version": "3.11.7"
  }
 },
 "nbformat": 4,
 "nbformat_minor": 4
}
