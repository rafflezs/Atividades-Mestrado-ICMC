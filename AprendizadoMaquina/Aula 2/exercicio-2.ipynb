{
  "cells": [
    {
      "cell_type": "markdown",
      "metadata": {
        "id": "IYJjTJn6VO9q"
      },
      "source": [
        "# SCC-ICMC-USP - 1o. semestre de 2024\n",
        "# SCC5871/MAI5025 - Exercício 2\n",
        "\n",
        "### Profa. Roseli A. F. Romero\n",
        "\n",
        "\n",
        "Alunos:\n",
        "\n",
        "\n",
        "1.   Julyana Flores de Prá\n",
        "2.   Thiago Rafael Mariotti Claudio"
      ]
    },
    {
      "cell_type": "markdown",
      "metadata": {
        "id": "27Q8KCDPV5mU"
      },
      "source": [
        "Para esse exercício, vamos utilizar o dataset Iris. Ele descreve atributos sobre 3 tipos de flores.\n",
        "O objetivo é classificar qual o tipo de flor de acordo com os atributos disponíveis. Vamos trabalhar apenas com as duas primeiras classes para que\n",
        "o problema de classificação binária."
      ]
    },
    {
      "cell_type": "code",
      "execution_count": 10,
      "metadata": {},
      "outputs": [],
      "source": [
        "import matplotlib.pyplot as plt\n",
        "import numpy as np\n",
        "\n",
        "from sklearn.metrics import log_loss\n",
        "from sklearn.datasets import load_iris\n",
        "from sklearn.neural_network import MLPClassifier\n",
        "from sklearn.preprocessing import StandardScaler\n",
        "from sklearn.model_selection import train_test_split\n",
        "from sklearn.model_selection import StratifiedKFold, cross_val_score"
      ]
    },
    {
      "cell_type": "code",
      "execution_count": 11,
      "metadata": {
        "id": "RCkrc7OCYsxn"
      },
      "outputs": [],
      "source": [
        "iris = load_iris()\n",
        "# Nessa primeira parte, vamos trabalhar apenas com as duas primeiras features e as duas primeiras classes\n",
        "X = iris.data[:100, :4]\n",
        "y = iris.target[:100]"
      ]
    },
    {
      "cell_type": "markdown",
      "metadata": {
        "id": "kBtKuWdgWJ3W"
      },
      "source": [
        "---\n",
        "\n",
        "### Questão 1.\n",
        "\n",
        "\n",
        "- a) Utilizando o sklearn, defina uma [MLP para classificação binária](https://scikit-learn.org/stable/modules/generated/sklearn.neural_network.MLPClassifier.html) com a seguinte configuração:\n",
        "    - função de ativação ReLU;\n",
        "    - duas camadas escondidads com 10 neurônios cada;\n",
        "    - taxa de aprendizado igual a 1e-2;\n",
        "    - utilizando o algoritmo de otimização de gradiente descendente estocástico;\n",
        "    - utilizando 10 iterações máximas (épocas);\n",
        "    - use random_state=1234\n",
        "\n",
        "\n",
        "- b) Treine a MLP definida no conjunto Iris simplificado definido na questçao anterior, e calcule a cross-entropy loss binária seguindo a definição a seguir."
      ]
    },
    {
      "cell_type": "code",
      "execution_count": 12,
      "metadata": {},
      "outputs": [
        {
          "data": {
            "text/html": [
              "<style>#sk-container-id-2 {color: black;background-color: white;}#sk-container-id-2 pre{padding: 0;}#sk-container-id-2 div.sk-toggleable {background-color: white;}#sk-container-id-2 label.sk-toggleable__label {cursor: pointer;display: block;width: 100%;margin-bottom: 0;padding: 0.3em;box-sizing: border-box;text-align: center;}#sk-container-id-2 label.sk-toggleable__label-arrow:before {content: \"▸\";float: left;margin-right: 0.25em;color: #696969;}#sk-container-id-2 label.sk-toggleable__label-arrow:hover:before {color: black;}#sk-container-id-2 div.sk-estimator:hover label.sk-toggleable__label-arrow:before {color: black;}#sk-container-id-2 div.sk-toggleable__content {max-height: 0;max-width: 0;overflow: hidden;text-align: left;background-color: #f0f8ff;}#sk-container-id-2 div.sk-toggleable__content pre {margin: 0.2em;color: black;border-radius: 0.25em;background-color: #f0f8ff;}#sk-container-id-2 input.sk-toggleable__control:checked~div.sk-toggleable__content {max-height: 200px;max-width: 100%;overflow: auto;}#sk-container-id-2 input.sk-toggleable__control:checked~label.sk-toggleable__label-arrow:before {content: \"▾\";}#sk-container-id-2 div.sk-estimator input.sk-toggleable__control:checked~label.sk-toggleable__label {background-color: #d4ebff;}#sk-container-id-2 div.sk-label input.sk-toggleable__control:checked~label.sk-toggleable__label {background-color: #d4ebff;}#sk-container-id-2 input.sk-hidden--visually {border: 0;clip: rect(1px 1px 1px 1px);clip: rect(1px, 1px, 1px, 1px);height: 1px;margin: -1px;overflow: hidden;padding: 0;position: absolute;width: 1px;}#sk-container-id-2 div.sk-estimator {font-family: monospace;background-color: #f0f8ff;border: 1px dotted black;border-radius: 0.25em;box-sizing: border-box;margin-bottom: 0.5em;}#sk-container-id-2 div.sk-estimator:hover {background-color: #d4ebff;}#sk-container-id-2 div.sk-parallel-item::after {content: \"\";width: 100%;border-bottom: 1px solid gray;flex-grow: 1;}#sk-container-id-2 div.sk-label:hover label.sk-toggleable__label {background-color: #d4ebff;}#sk-container-id-2 div.sk-serial::before {content: \"\";position: absolute;border-left: 1px solid gray;box-sizing: border-box;top: 0;bottom: 0;left: 50%;z-index: 0;}#sk-container-id-2 div.sk-serial {display: flex;flex-direction: column;align-items: center;background-color: white;padding-right: 0.2em;padding-left: 0.2em;position: relative;}#sk-container-id-2 div.sk-item {position: relative;z-index: 1;}#sk-container-id-2 div.sk-parallel {display: flex;align-items: stretch;justify-content: center;background-color: white;position: relative;}#sk-container-id-2 div.sk-item::before, #sk-container-id-2 div.sk-parallel-item::before {content: \"\";position: absolute;border-left: 1px solid gray;box-sizing: border-box;top: 0;bottom: 0;left: 50%;z-index: -1;}#sk-container-id-2 div.sk-parallel-item {display: flex;flex-direction: column;z-index: 1;position: relative;background-color: white;}#sk-container-id-2 div.sk-parallel-item:first-child::after {align-self: flex-end;width: 50%;}#sk-container-id-2 div.sk-parallel-item:last-child::after {align-self: flex-start;width: 50%;}#sk-container-id-2 div.sk-parallel-item:only-child::after {width: 0;}#sk-container-id-2 div.sk-dashed-wrapped {border: 1px dashed gray;margin: 0 0.4em 0.5em 0.4em;box-sizing: border-box;padding-bottom: 0.4em;background-color: white;}#sk-container-id-2 div.sk-label label {font-family: monospace;font-weight: bold;display: inline-block;line-height: 1.2em;}#sk-container-id-2 div.sk-label-container {text-align: center;}#sk-container-id-2 div.sk-container {/* jupyter's `normalize.less` sets `[hidden] { display: none; }` but bootstrap.min.css set `[hidden] { display: none !important; }` so we also need the `!important` here to be able to override the default hidden behavior on the sphinx rendered scikit-learn.org. See: https://github.com/scikit-learn/scikit-learn/issues/21755 */display: inline-block !important;position: relative;}#sk-container-id-2 div.sk-text-repr-fallback {display: none;}</style><div id=\"sk-container-id-2\" class=\"sk-top-container\"><div class=\"sk-text-repr-fallback\"><pre>MLPClassifier(hidden_layer_sizes=(10, 10), learning_rate_init=0.01,\n",
              "              max_iter=100, random_state=1234, solver=&#x27;sgd&#x27;)</pre><b>In a Jupyter environment, please rerun this cell to show the HTML representation or trust the notebook. <br />On GitHub, the HTML representation is unable to render, please try loading this page with nbviewer.org.</b></div><div class=\"sk-container\" hidden><div class=\"sk-item\"><div class=\"sk-estimator sk-toggleable\"><input class=\"sk-toggleable__control sk-hidden--visually\" id=\"sk-estimator-id-2\" type=\"checkbox\" checked><label for=\"sk-estimator-id-2\" class=\"sk-toggleable__label sk-toggleable__label-arrow\">MLPClassifier</label><div class=\"sk-toggleable__content\"><pre>MLPClassifier(hidden_layer_sizes=(10, 10), learning_rate_init=0.01,\n",
              "              max_iter=100, random_state=1234, solver=&#x27;sgd&#x27;)</pre></div></div></div></div></div>"
            ],
            "text/plain": [
              "MLPClassifier(hidden_layer_sizes=(10, 10), learning_rate_init=0.01,\n",
              "              max_iter=100, random_state=1234, solver='sgd')"
            ]
          },
          "execution_count": 12,
          "metadata": {},
          "output_type": "execute_result"
        }
      ],
      "source": [
        "# a)\n",
        "X_train, X_test, y_train, y_test = train_test_split(X, y, test_size=0.2, random_state=1234)\n",
        "\n",
        "mlp = MLPClassifier(activation='relu', hidden_layer_sizes=(10, 10), learning_rate_init=1e-2, solver='sgd', max_iter=100, random_state=1234)\n",
        "mlp.fit(X_train, y_train)"
      ]
    },
    {
      "cell_type": "code",
      "execution_count": 13,
      "metadata": {},
      "outputs": [
        {
          "name": "stdout",
          "output_type": "stream",
          "text": [
            "Binary Cross-Entropy Loss: 0.0062214020615873455\n"
          ]
        }
      ],
      "source": [
        "# b)\n",
        "y_pred_proba = mlp.predict_proba(X_test)\n",
        "binary_cross_entropy_loss = log_loss(y_test, y_pred_proba)\n",
        "\n",
        "print(\"Binary Cross-Entropy Loss:\", binary_cross_entropy_loss)"
      ]
    },
    {
      "cell_type": "markdown",
      "metadata": {
        "id": "7GQGz90SWaqd"
      },
      "source": [
        "---\n",
        "\n",
        "### Questão 2.\n",
        "\n",
        "Para avaliar os modelos que serão testados, implemente a função `evaluate_model()`. Essa função recebe um modelo de classificador genérico (`model`) e avalia sua acurácia utilizando **10-fold stratified cross-validation**, retornando a média das acurácias de cada fold. O parâmetro `X` indica os dados e `y` os labels.\n",
        "- Sugestão: há duas formas de implementar a validação cruzada: treinar manualmente os modelos nos [splits gerados](https://scikit-learn.org/stable/modules/generated/sklearn.model_selection.StratifiedKFold.html) ou utilizar a função [cross_val_score](https://scikit-learn.org/stable/modules/generated/sklearn.model_selection.cross_val_score.html) do sklearn. Atente-se ao cálculo da acurácia.\n",
        "\n",
        "- Para garantir uma melhor performance dos algoritmos, faça o preprocessamento desses dados através da classe `sklearn.preprocessing.StandardScaler`."
      ]
    },
    {
      "cell_type": "code",
      "execution_count": 14,
      "metadata": {},
      "outputs": [],
      "source": [
        "def evaluate_model(model, X, y):\n",
        "    \"\"\"\n",
        "    Evaluates the model using 10-fold stratified cross-validation and return the mean accuracy.\n",
        "    \n",
        "    Parameters:\n",
        "        model: Classifier model to evaluate.\n",
        "        X: Input features.\n",
        "        y: Target labels.\n",
        "        \n",
        "    Returns:\n",
        "        mean_accuracy: Mean accuracy across all folds.\n",
        "    \"\"\"\n",
        "    scaler = StandardScaler()\n",
        "    X_scaled = scaler.fit_transform(X)\n",
        "    \n",
        "    skf = StratifiedKFold(n_splits=10, shuffle=True, random_state=1234)\n",
        "    \n",
        "    accuracies = cross_val_score(model, X_scaled, y, cv=skf, scoring='accuracy')\n",
        "    \n",
        "    mean_accuracy = accuracies.mean()\n",
        "    \n",
        "    return mean_accuracy"
      ]
    },
    {
      "cell_type": "markdown",
      "metadata": {
        "id": "0OAqBPC9W7Ul"
      },
      "source": [
        "---\n",
        "\n",
        "### Questão 3.\n",
        "\n",
        "Agora para estruturar e organizar melhor nossos testes, vamos utilizar as estruturas de dicionário do Python. Por exemplo, se formos definir dois modelos de Multi-Layer Perceptron, podemos escrever:\n",
        "\n",
        "```\n",
        "experimentos = {\n",
        "    \"MLP camada escondida (5,)\": MLPClassifier(hidden_layer_sizes=(5,),\n",
        "    \"MLP camada escondida (5,5)\": MLPClassifier(hidden_layer_sizes=(5,5)        \n",
        "}\n",
        "```\n",
        "\n",
        "Isso pode ser feito pois o Python trata funções como funções de primeira classe. Isso é, funções podem ser tratadas como variáveis.\n",
        "\n",
        "Portanto, defina um dicionário de experimentos com ao menos 3 modelos de MLP (`sklearn.neural_network.MLPClassifier`). Para isso varie parâmetros como o número de camadas escondidas, função de ativação e número de neurônios.\n",
        "\n",
        "- Dica: Ver documentação em https://scikit-learn.org/stable/modules/generated/sklearn.neural_network.MLPClassifier.html\n",
        "- Utilize um número de iterações >= 50 para garantir convergência.\n",
        "- Experimente diferentes taxas de aprendizado e número máximo de iterações (épocas) de forma a garantir convergência no treino."
      ]
    },
    {
      "cell_type": "code",
      "execution_count": 15,
      "metadata": {},
      "outputs": [],
      "source": [
        "experiments = {\n",
        "    \"MLP camada escondida (10,)\" : MLPClassifier(hidden_layer_sizes=(10,), max_iter=500, random_state=1234),\n",
        "    \"MLP camadas escondidas (10, 10) ReLU\": MLPClassifier(hidden_layer_sizes=(10, 10), activation='relu', max_iter=500, random_state=1234),\n",
        "    \"MLP camadas escondidas (20, 10) Tanh\": MLPClassifier(hidden_layer_sizes=(20, 10), activation='tanh', max_iter=500, random_state=1234)\n",
        "}"
      ]
    },
    {
      "cell_type": "markdown",
      "metadata": {
        "id": "WF4OInsQXaGJ"
      },
      "source": [
        "---\n",
        "\n",
        "### Questão 4.\n",
        "\n",
        "- a) Para cada modelo instanciado na Questão 3, utilize a função criada na questão 3 para calcular sua acurácia. Exiba o nome do modelo e sua acurácia.\n",
        "- b) Determine qual o melhor classificador dentre os especificados e justifique sua escolha."
      ]
    },
    {
      "cell_type": "code",
      "execution_count": 16,
      "metadata": {},
      "outputs": [
        {
          "name": "stdout",
          "output_type": "stream",
          "text": [
            "MLP camada escondida (10,): Acurácia = 1.0000\n",
            "MLP camadas escondidas (10, 10) ReLU: Acurácia = 1.0000\n",
            "MLP camadas escondidas (20, 10) Tanh: Acurácia = 1.0000\n"
          ]
        }
      ],
      "source": [
        "# a)\n",
        "results = {}\n",
        "for name, model in experiments.items():\n",
        "    accuracy = evaluate_model(model, X, y)\n",
        "    results[name] = accuracy\n",
        "    print(f\"{name}: Acurácia = {accuracy:.4f}\")\n",
        "\n",
        "# pq tá todo mundo com a mesma acuracia? será que eu sou burra?"
      ]
    },
    {
      "cell_type": "code",
      "execution_count": 17,
      "metadata": {
        "id": "uXJF7LngVkjC"
      },
      "outputs": [
        {
          "name": "stdout",
          "output_type": "stream",
          "text": [
            "\n",
            "O melhor classificador é 'MLP camada escondida (10,)' com uma acurácia de 1.0000.\n"
          ]
        }
      ],
      "source": [
        "# b)\n",
        "best_model = max(results, key=results.get)\n",
        "acc_best_model = results[best_model]\n",
        "\n",
        "print(f\"\\nO melhor classificador é '{best_model}' com uma acurácia de {acc_best_model:.4f}.\")"
      ]
    }
  ],
  "metadata": {
    "colab": {
      "provenance": []
    },
    "kernelspec": {
      "display_name": "Python 3",
      "name": "python3"
    },
    "language_info": {
      "codemirror_mode": {
        "name": "ipython",
        "version": 3
      },
      "file_extension": ".py",
      "mimetype": "text/x-python",
      "name": "python",
      "nbconvert_exporter": "python",
      "pygments_lexer": "ipython3",
      "version": "3.11.7"
    }
  },
  "nbformat": 4,
  "nbformat_minor": 0
}
